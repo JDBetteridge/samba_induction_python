{
 "cells": [
  {
   "cell_type": "markdown",
   "metadata": {
    "slideshow": {
     "slide_type": "slide"
    }
   },
   "source": [
    "# Datatypes and Conversion"
   ]
  },
  {
   "cell_type": "markdown",
   "metadata": {
    "slideshow": {
     "slide_type": "slide"
    }
   },
   "source": [
    "## Overview:\n",
    "- **Teaching:** 10 min\n",
    "- **Exercises:** 10 min\n",
    "\n",
    "**Questions**\n",
    "- Why are there different types of values a computer can store?\n",
    "- What kind data types do programs store?\n",
    "- How can I convert one type to another?\n",
    "\n",
    "**Objectives**\n",
    "- Explain key differences between integers and floating point numbers.\n",
    "- Explain key differences between numbers and character strings.\n",
    "- Understand how to assign a value so it has the correct type.\n",
    "- Use built-in functions to convert between integers, floating point numbers, and strings."
   ]
  },
  {
   "cell_type": "markdown",
   "metadata": {
    "slideshow": {
     "slide_type": "slide"
    }
   },
   "source": [
    "# Every value has a type\n",
    "\n",
    "So far we have introduced different types of values.  Before we go any further we will explore this a little more to ensure that we are clear about differences between the types of values and the variables where they are stored.\n",
    "\n",
    "- Every value in a program has a specific type.\n",
    "- Integer (int): represents positive or negative whole numbers like 3 or -512.\n",
    "- Floating point number (float): represents real numbers like 3.14159 or -2.5.\n",
    "- Character string, usually called a string, (str): \"some text\".\n",
    "  - Written in either single quotes or double quotes (as long as they match).\n",
    "  - The quote marks aren’t printed when the string is displayed with `print()`."
   ]
  },
  {
   "cell_type": "markdown",
   "metadata": {
    "slideshow": {
     "slide_type": "slide"
    }
   },
   "source": [
    "## The `type` function\n",
    "\n",
    "We will use the function `type` to identify how Python stores the following values."
   ]
  },
  {
   "cell_type": "code",
   "execution_count": 1,
   "metadata": {
    "slideshow": {
     "slide_type": "subslide"
    }
   },
   "outputs": [
    {
     "name": "stdout",
     "output_type": "stream",
     "text": [
      "<class 'int'>\n"
     ]
    }
   ],
   "source": [
    "print(type(24))"
   ]
  },
  {
   "cell_type": "markdown",
   "metadata": {
    "slideshow": {
     "slide_type": "subslide"
    }
   },
   "source": [
    "`24` is recognised as a value of type `'int'`, where `'int'` as we might expect is short for `integer`."
   ]
  },
  {
   "cell_type": "code",
   "execution_count": 2,
   "metadata": {
    "slideshow": {
     "slide_type": "subslide"
    }
   },
   "outputs": [
    {
     "name": "stdout",
     "output_type": "stream",
     "text": [
      "<class 'float'>\n"
     ]
    }
   ],
   "source": [
    "print(type(70.0))"
   ]
  },
  {
   "cell_type": "markdown",
   "metadata": {
    "slideshow": {
     "slide_type": "subslide"
    }
   },
   "source": [
    "`70.0` is a `'float'`. Finally:"
   ]
  },
  {
   "cell_type": "code",
   "execution_count": 3,
   "metadata": {
    "slideshow": {
     "slide_type": "subslide"
    }
   },
   "outputs": [
    {
     "name": "stdout",
     "output_type": "stream",
     "text": [
      "<class 'str'>\n"
     ]
    }
   ],
   "source": [
    "print(type(\"James\"))"
   ]
  },
  {
   "cell_type": "markdown",
   "metadata": {
    "slideshow": {
     "slide_type": "slide"
    }
   },
   "source": [
    "## What about variables?\n",
    "\n",
    "Hopefully there are no surprises in the types that Python assigns to the values above, but what about variables.  Let's try run `type` on a new variable, `changeling`:"
   ]
  },
  {
   "cell_type": "code",
   "execution_count": 4,
   "metadata": {
    "slideshow": {
     "slide_type": "subslide"
    }
   },
   "outputs": [
    {
     "ename": "NameError",
     "evalue": "name 'changeling' is not defined",
     "output_type": "error",
     "traceback": [
      "\u001b[0;31m---------------------------------------------------------------------------\u001b[0m",
      "\u001b[0;31mNameError\u001b[0m                                 Traceback (most recent call last)",
      "\u001b[0;32m<ipython-input-4-e94e480168f6>\u001b[0m in \u001b[0;36m<module>\u001b[0;34m\u001b[0m\n\u001b[0;32m----> 1\u001b[0;31m \u001b[0mprint\u001b[0m\u001b[0;34m(\u001b[0m\u001b[0mtype\u001b[0m\u001b[0;34m(\u001b[0m\u001b[0mchangeling\u001b[0m\u001b[0;34m)\u001b[0m\u001b[0;34m)\u001b[0m\u001b[0;34m\u001b[0m\u001b[0;34m\u001b[0m\u001b[0m\n\u001b[0m",
      "\u001b[0;31mNameError\u001b[0m: name 'changeling' is not defined"
     ]
    }
   ],
   "source": [
    "print(type(changeling))"
   ]
  },
  {
   "cell_type": "markdown",
   "metadata": {
    "slideshow": {
     "slide_type": "subslide"
    }
   },
   "source": [
    "As we found out at the end of the last episode, we cannot use a variable before it has been assigned a value.  So let's assign a series of values and repeat:"
   ]
  },
  {
   "cell_type": "code",
   "execution_count": null,
   "metadata": {
    "slideshow": {
     "slide_type": "slide"
    }
   },
   "outputs": [],
   "source": [
    "changeling = 24\n",
    "print(type(changeling))"
   ]
  },
  {
   "cell_type": "code",
   "execution_count": null,
   "metadata": {
    "slideshow": {
     "slide_type": "subslide"
    }
   },
   "outputs": [],
   "source": [
    "changeling = 70.0\n",
    "print(type(changeling))"
   ]
  },
  {
   "cell_type": "code",
   "execution_count": null,
   "metadata": {
    "slideshow": {
     "slide_type": "subslide"
    }
   },
   "outputs": [],
   "source": [
    "changeling = \"James\"\n",
    "print(type(changeling))"
   ]
  },
  {
   "cell_type": "markdown",
   "metadata": {
    "slideshow": {
     "slide_type": "subslide"
    }
   },
   "source": [
    "We can see that in Python variables do not have a well defined type but are mutable, depending upon the value stored in them."
   ]
  },
  {
   "cell_type": "markdown",
   "metadata": {
    "slideshow": {
     "slide_type": "slide"
    }
   },
   "source": [
    "## Value types determine what operations are allowed\n",
    "\n",
    "The `type` of values determines what can be done with them; for instance we have already seen that we can happily perform calculations with `int`s and `float`s..."
   ]
  },
  {
   "cell_type": "code",
   "execution_count": null,
   "metadata": {
    "slideshow": {
     "slide_type": "subslide"
    }
   },
   "outputs": [],
   "source": [
    "print(5-3)\n",
    "print(75.0/3.5)"
   ]
  },
  {
   "cell_type": "markdown",
   "metadata": {
    "slideshow": {
     "slide_type": "subslide"
    }
   },
   "source": [
    "We have also seen that if we mix `int`s and `float`s, Python is able to work out what to do:"
   ]
  },
  {
   "cell_type": "code",
   "execution_count": null,
   "metadata": {
    "slideshow": {
     "slide_type": "subslide"
    }
   },
   "outputs": [],
   "source": [
    "print(2+3.5)"
   ]
  },
  {
   "cell_type": "markdown",
   "metadata": {
    "slideshow": {
     "slide_type": "slide"
    }
   },
   "source": [
    "Because `int`s and `float`s are ways of representing numbers mathematical operations involving their values are well defined."
   ]
  },
  {
   "cell_type": "markdown",
   "metadata": {
    "slideshow": {
     "slide_type": "slide"
    }
   },
   "source": [
    "## Exercise: What about the following?\n",
    "\n",
    "Think about what would happen if you tried the following and then see if you can understand the output.\n",
    "\n",
    "```python\n",
    "`print(1+\"2\")\n",
    "`print(\"Hello\"-\"world\")\n",
    "```\n",
    "\n",
    "[Solution]()"
   ]
  },
  {
   "cell_type": "markdown",
   "metadata": {},
   "source": [
    "## Solution+: What about the following?\n",
    "\n",
    "If you try executing these blocks of code you'll get an \"unsupported operand\" error:"
   ]
  },
  {
   "cell_type": "code",
   "execution_count": null,
   "metadata": {},
   "outputs": [],
   "source": [
    "print(1 + \"2\")"
   ]
  },
  {
   "cell_type": "code",
   "execution_count": null,
   "metadata": {},
   "outputs": [],
   "source": [
    "print(\"Hello\" - \"world\")"
   ]
  },
  {
   "cell_type": "markdown",
   "metadata": {},
   "source": [
    "This arises because the operation we are telling Python to perform isn't well-defined on these `type`s of variables.\n",
    "```python\n",
    "`print(1+\"2\")\n",
    "```\n",
    "Is trying to add an integer to a string - but what does that mean? It's like asking someone \"what's 50metres plus 25kg\"?\n",
    "\n",
    "```python\n",
    "`print(\"Hello\"-\"world\")\n",
    "```\n",
    "Here we are trying to manipulate two `str`s, so the `type` matches at least. But words don't have a definition of subtraction, so we get the same error - this time the problem is that the `type` we are using doesn't have `-` defined, rather than the variables being different types.\n",
    "\n",
    ":Solution+"
   ]
  },
  {
   "cell_type": "markdown",
   "metadata": {
    "slideshow": {
     "slide_type": "slide"
    }
   },
   "source": [
    "## Exercise: Now try these:\n",
    "\n",
    "```python\n",
    "print(\"Hello\"+\"world\")\n",
    "print(\"Hello\"*3)\n",
    "```\n",
    "\n",
    "[Solution]()"
   ]
  },
  {
   "cell_type": "markdown",
   "metadata": {},
   "source": [
    "## Solution+: Now try these:\n",
    "\n",
    "Whilst we saw in the previous exercise that `str`s don't have a subtraction operation (`-`), they in fact *do* have an \"addition\" and \"multiplication\" operation.\n",
    "\n",
    "- `+` or addition of `str`s is interpreted as \"concatenate\" - stick the two strings together in the order they are given. Note that this means that `\"Hello\" + \"world\"` is different to `\"world\"+\"Hello\"`:"
   ]
  },
  {
   "cell_type": "code",
   "execution_count": null,
   "metadata": {},
   "outputs": [],
   "source": [
    "print(\"Hello\" + \"world\")\n",
    "print(\"world\" + \"Hello\")"
   ]
  },
  {
   "cell_type": "markdown",
   "metadata": {},
   "source": [
    "- `*` or multiplication of `str` is interpreted as \"repeat\" or \"repeat concatenation\" - copy the `str` as many times as is requested. Note that you must multiply by an `int` - if you try to multiply by a `float` you'll get an other error!"
   ]
  },
  {
   "cell_type": "code",
   "execution_count": null,
   "metadata": {},
   "outputs": [],
   "source": [
    "print(\"Hello\"*3)"
   ]
  },
  {
   "cell_type": "code",
   "execution_count": null,
   "metadata": {},
   "outputs": [],
   "source": [
    "print(\"Hello\"*3.0)"
   ]
  },
  {
   "cell_type": "markdown",
   "metadata": {},
   "source": [
    ":Solution+"
   ]
  },
  {
   "cell_type": "markdown",
   "metadata": {
    "slideshow": {
     "slide_type": "slide"
    }
   },
   "source": [
    "## Exercise: Choosing the type of value.\n",
    "\n",
    "In the previous episode we used\n",
    "```python\n",
    "age = 36\n",
    "name = \"James\"\n",
    "print(name, \"is\", age, \"years old\")\n",
    "```\n",
    "What would happen if we had instead used\n",
    "```python\n",
    "age = \"36\"\n",
    "name = \"James\"\n",
    "print(name, \"is\", age, \"years old\")\n",
    "```\n",
    "Think about why we would choose to specify age as an `int` (or `float`) rather than a `str`."
   ]
  },
  {
   "cell_type": "markdown",
   "metadata": {
    "slideshow": {
     "slide_type": "slide"
    }
   },
   "source": [
    "## Changing the type of a value\n",
    "\n",
    "As well as using the function `type` to retrieve the type of a value there are also a set of functions which can be used to change the type of a value.  These functions take the form of the value types `int()`, `float()` and `str()`"
   ]
  },
  {
   "cell_type": "code",
   "execution_count": null,
   "metadata": {
    "slideshow": {
     "slide_type": "subslide"
    }
   },
   "outputs": [],
   "source": [
    "print(\"String:\",\"2\", \"Integer:\", int(\"2\"), \"Float:\", float(\"2\")) \n",
    "# Take the string \"2\", convert it to a integer, a float and print all three cases"
   ]
  },
  {
   "cell_type": "code",
   "execution_count": null,
   "metadata": {
    "slideshow": {
     "slide_type": "subslide"
    }
   },
   "outputs": [],
   "source": [
    "print(\"Float\", 2.5, \"String:\", str(2.5), \"Integer:\", int(2.5))   \n",
    "# Take the float 2.5, convert it to a string, an integer and print all three cases"
   ]
  },
  {
   "cell_type": "markdown",
   "metadata": {
    "slideshow": {
     "slide_type": "slide"
    }
   },
   "source": [
    "So if we return to the earlier exercise where we tried the command `print(1+\"2\")` we now know that in order to perform the integer calculation `1+2`; we need to convert the second value `\"2\"` to integer in order for the code to be valid."
   ]
  },
  {
   "cell_type": "code",
   "execution_count": 5,
   "metadata": {
    "slideshow": {
     "slide_type": "subslide"
    }
   },
   "outputs": [
    {
     "name": "stdout",
     "output_type": "stream",
     "text": [
      "3\n"
     ]
    }
   ],
   "source": [
    "print(1 + int(\"2\")) "
   ]
  },
  {
   "cell_type": "markdown",
   "metadata": {
    "slideshow": {
     "slide_type": "subslide"
    }
   },
   "source": [
    "Alternatively it may have been our intentions to 'add' or combine the two `str`s `\"1\"` and `\"2\"`, in which case we would instead need:"
   ]
  },
  {
   "cell_type": "code",
   "execution_count": 6,
   "metadata": {
    "slideshow": {
     "slide_type": "subslide"
    }
   },
   "outputs": [
    {
     "name": "stdout",
     "output_type": "stream",
     "text": [
      "12\n"
     ]
    }
   ],
   "source": [
    "print(str(1)+\"2\")"
   ]
  },
  {
   "cell_type": "markdown",
   "metadata": {
    "slideshow": {
     "slide_type": "slide"
    }
   },
   "source": [
    "## What about a variables type?\n",
    "\n",
    "So far we have used the functions `str`, `int` and `float`, to change the type of values.  How does running these commands on a variable affect the type of the value assigned to them?  We can investigate this with the following:"
   ]
  },
  {
   "cell_type": "code",
   "execution_count": 7,
   "metadata": {
    "slideshow": {
     "slide_type": "subslide"
    }
   },
   "outputs": [
    {
     "name": "stdout",
     "output_type": "stream",
     "text": [
      "2\n",
      "22222\n",
      "2.0\n",
      "22222\n"
     ]
    }
   ],
   "source": [
    "my_variable = \"2\"               # First we assign the value, string \"2\", to the variable my_variable\n",
    "print(my_variable)              # Print the variable\n",
    "print(my_variable*5)            # Verify that the variable is a string but testing the behaviour with `*`\n",
    "print( float(my_variable) )     # Convert the value in variable to a float and print it\n",
    "print(my_variable*5)            # Verify what the variable type is now by testing the behaviour with `*`"
   ]
  },
  {
   "cell_type": "markdown",
   "metadata": {
    "slideshow": {
     "slide_type": "subslide"
    }
   },
   "source": [
    "We see that this has not changed the type of the value stored in `my_variable`.  The commands only change the `type` of the value at that point in the code.  For example if we have the string `\"2\"`, running `int(\"2\")` does not change the fact that `\"2\"` is a string."
   ]
  },
  {
   "cell_type": "markdown",
   "metadata": {
    "slideshow": {
     "slide_type": "slide"
    }
   },
   "source": [
    "If we want the conversion to be reflected in the value stored in a variable, we must reassign the variable"
   ]
  },
  {
   "cell_type": "code",
   "execution_count": 8,
   "metadata": {
    "slideshow": {
     "slide_type": "slide"
    }
   },
   "outputs": [
    {
     "name": "stdout",
     "output_type": "stream",
     "text": [
      "2\n",
      "22222\n",
      "2.0\n",
      "10.0\n"
     ]
    }
   ],
   "source": [
    "my_variable = \"2\"                   # First we assign the value, string \"2\", to the variable my_variable\n",
    "print(my_variable)                  # Print the variable\n",
    "print(my_variable*5)                # Verify that the variable is a string but testing the behaviour with `*`\n",
    "print( float(my_variable) )         # Convert the value in variable to a float and print it\n",
    "my_variable = float(my_variable)    # Now we explicitly reassign the my_variable\n",
    "print(my_variable*5)                # Verify what the variable type is now by testing the behaviour with `*`"
   ]
  },
  {
   "cell_type": "markdown",
   "metadata": {
    "slideshow": {
     "slide_type": "subslide"
    }
   },
   "source": [
    "We can now see that the variable has been explicitly reassigned to the value converted to a float, and this has been verified by checking that `*` now performs the numerical operation we expect rather than the repeating the string multiple times."
   ]
  },
  {
   "cell_type": "markdown",
   "metadata": {
    "slideshow": {
     "slide_type": "slide"
    }
   },
   "source": [
    "## Exercise: Decimals and fractions\n",
    "\n",
    "What type of values are the following and how can you find out?\n",
    "\n",
    "1. 3.4\n",
    "2. 1/3\n",
    "3. 4/4\n",
    "\n",
    "[Solution]()"
   ]
  },
  {
   "cell_type": "markdown",
   "metadata": {
    "slideshow": {
     "slide_type": "slide"
    }
   },
   "source": [
    "## Solution+: Decimals and fractions"
   ]
  },
  {
   "cell_type": "code",
   "execution_count": 9,
   "metadata": {
    "slideshow": {
     "slide_type": "slide"
    }
   },
   "outputs": [
    {
     "name": "stdout",
     "output_type": "stream",
     "text": [
      "<class 'float'>\n",
      "<class 'float'>\n",
      "<class 'float'>\n"
     ]
    }
   ],
   "source": [
    "print(type(3.4))\n",
    "print(type(1/3))\n",
    "print(type(4/4))"
   ]
  },
  {
   "cell_type": "markdown",
   "metadata": {},
   "source": [
    ":Solution+"
   ]
  },
  {
   "cell_type": "markdown",
   "metadata": {
    "slideshow": {
     "slide_type": "slide"
    }
   },
   "source": [
    "## Exercise: Choose a Type\n",
    "\n",
    "What type of value (integer, floating point number, or character string) would you use to represent each of the following? Try to come up with more than one good answer for each problem. For example, in # 1, when would counting days with a floating point variable make more sense than using an integer?\n",
    "\n",
    "1. Number of days since the start of the year.\n",
    "2. Time elapsed from the start of the year until now in days.\n",
    "3. Serial number of a piece of lab equipment.\n",
    "4. A lab specimen’s age\n",
    "5. Current population of a city.\n",
    "6. Average population of a city over time.\n",
    "\n",
    "[Solution]()"
   ]
  },
  {
   "cell_type": "markdown",
   "metadata": {
    "slideshow": {
     "slide_type": "slide"
    }
   },
   "source": [
    "## Solution: Choose a Type\n",
    "\n",
    "Possible answers to the questions are:\n",
    "\n",
    "1. Integer, since the number of days would lie between 1 and 365.\n",
    "2. Floating point, since fractional days are required\n",
    "3. Character string if serial number contains letters and numbers, otherwise integer if the serial number consists only of numerals\n",
    "4. This will vary! How do you define a specimen’s age? whole days since collection (integer)? date and time (string)? Number of seconds since creation (integer/float)\n",
    "5. Choose floating point to represent population as large aggreates (eg millions), or integer to represent population in units of individuals.\n",
    "6. Floating point number, since an average is likely to have a fractional part."
   ]
  },
  {
   "cell_type": "markdown",
   "metadata": {
    "slideshow": {
     "slide_type": "slide"
    }
   },
   "source": [
    "## Exercise: Values and types\n",
    "\n",
    "What will be the value and type resulting from the following. Try working out the results for yourself first then check them using python:\n",
    "```python\n",
    "3.25 + 4\n",
    "4 + 3.25\n",
    "int(4/3)\n",
    "int(\"3.4\")\n",
    "int(float(\"3.4\"))\n",
    "int(3.99)\n",
    "float(\"Hello world!\")\n",
    "```\n",
    "\n",
    "[Solution]()"
   ]
  },
  {
   "cell_type": "markdown",
   "metadata": {
    "slideshow": {
     "slide_type": "slide"
    }
   },
   "source": [
    "## Solution+: Values and types\n",
    "\n",
    "For each line we can print the result of the calculation, and then the `type` of the result.\n",
    "We can also save the result of the calculation to a variable, for ease when calling `type()`."
   ]
  },
  {
   "cell_type": "code",
   "execution_count": 10,
   "metadata": {
    "slideshow": {
     "slide_type": "slide"
    }
   },
   "outputs": [
    {
     "name": "stdout",
     "output_type": "stream",
     "text": [
      "7.25\n",
      "<class 'float'>\n"
     ]
    }
   ],
   "source": [
    "print(3.25 + 4)\n",
    "print(type(3.25 + 4))"
   ]
  },
  {
   "cell_type": "code",
   "execution_count": 11,
   "metadata": {
    "slideshow": {
     "slide_type": "slide"
    }
   },
   "outputs": [
    {
     "name": "stdout",
     "output_type": "stream",
     "text": [
      "7.25\n",
      "<class 'float'>\n"
     ]
    }
   ],
   "source": [
    "print(4 + 3.25)\n",
    "print(type(4 + 3.25))"
   ]
  },
  {
   "cell_type": "markdown",
   "metadata": {
    "slideshow": {
     "slide_type": "slide"
    }
   },
   "source": [
    "In Python 3 the whole calculation is treated as floating point, irrespective of the order of the values."
   ]
  },
  {
   "cell_type": "code",
   "execution_count": 12,
   "metadata": {},
   "outputs": [
    {
     "name": "stdout",
     "output_type": "stream",
     "text": [
      "1 <class 'int'>\n"
     ]
    }
   ],
   "source": [
    "value = int(4/3)\n",
    "print(value, type(value))"
   ]
  },
  {
   "cell_type": "markdown",
   "metadata": {},
   "source": [
    "The calculation is performed using `float`s (in Python 3), and then converted to an `int`."
   ]
  },
  {
   "cell_type": "code",
   "execution_count": 13,
   "metadata": {},
   "outputs": [
    {
     "ename": "ValueError",
     "evalue": "invalid literal for int() with base 10: '3.4'",
     "output_type": "error",
     "traceback": [
      "\u001b[0;31m---------------------------------------------------------------------------\u001b[0m",
      "\u001b[0;31mValueError\u001b[0m                                Traceback (most recent call last)",
      "\u001b[0;32m<ipython-input-13-ba8d7dd18d3b>\u001b[0m in \u001b[0;36m<module>\u001b[0;34m\u001b[0m\n\u001b[0;32m----> 1\u001b[0;31m \u001b[0mprint\u001b[0m\u001b[0;34m(\u001b[0m\u001b[0mint\u001b[0m\u001b[0;34m(\u001b[0m\u001b[0;34m\"3.4\"\u001b[0m\u001b[0;34m)\u001b[0m\u001b[0;34m)\u001b[0m\u001b[0;34m\u001b[0m\u001b[0;34m\u001b[0m\u001b[0m\n\u001b[0m",
      "\u001b[0;31mValueError\u001b[0m: invalid literal for int() with base 10: '3.4'"
     ]
    }
   ],
   "source": [
    "print(int(\"3.4\"))"
   ]
  },
  {
   "cell_type": "markdown",
   "metadata": {
    "slideshow": {
     "slide_type": "slide"
    }
   },
   "source": [
    "Python is unable to convert from a `str` to `int` unless the `str` is explictly an 'integer'."
   ]
  },
  {
   "cell_type": "code",
   "execution_count": null,
   "metadata": {},
   "outputs": [],
   "source": [
    "value = int(float(\"3.4\"))\n",
    "print(value, type(value))"
   ]
  },
  {
   "cell_type": "markdown",
   "metadata": {},
   "source": [
    "Python is able to convert to a `float` first, and then to an `int`, though."
   ]
  },
  {
   "cell_type": "code",
   "execution_count": null,
   "metadata": {},
   "outputs": [],
   "source": [
    "print(int(3.99))\n",
    "print(type(int(3.99)))"
   ]
  },
  {
   "cell_type": "markdown",
   "metadata": {},
   "source": [
    "When converting to an `int`, Python does not \"round the value to the nearest integer\" but instead effectively ignores the fractional/decimal part."
   ]
  },
  {
   "cell_type": "code",
   "execution_count": null,
   "metadata": {},
   "outputs": [],
   "source": [
    "float(\"Hello world!\")"
   ]
  },
  {
   "cell_type": "markdown",
   "metadata": {},
   "source": [
    "There is no logical way to convert a phrase or segment of prose into a `float` - there aren't even any numbers in the `str` to start with anyway!\n",
    "\n",
    ":Solution+"
   ]
  },
  {
   "cell_type": "markdown",
   "metadata": {
    "slideshow": {
     "slide_type": "slide"
    }
   },
   "source": [
    "## Exercise+: Calculating with variables with different types\n",
    "\n",
    "Which of the following will print 2.0? There may be more than one right answer!"
   ]
  },
  {
   "cell_type": "code",
   "execution_count": null,
   "metadata": {
    "slideshow": {
     "slide_type": "slide"
    }
   },
   "outputs": [],
   "source": [
    "first = 1.0\n",
    "second = \"1\"\n",
    "third = \"1.1\""
   ]
  },
  {
   "cell_type": "markdown",
   "metadata": {
    "slideshow": {
     "slide_type": "slide"
    }
   },
   "source": [
    "[Solution]()\n",
    "\n",
    ":Exercise+"
   ]
  },
  {
   "cell_type": "markdown",
   "metadata": {
    "slideshow": {
     "slide_type": "slide"
    }
   },
   "source": [
    "## Solution+: Calculating with variables with different types\n",
    "\n",
    "1 and 4 give the result 2.0.  The complete results should be:"
   ]
  },
  {
   "cell_type": "code",
   "execution_count": null,
   "metadata": {
    "slideshow": {
     "slide_type": "slide"
    }
   },
   "outputs": [],
   "source": [
    "first + float(second)"
   ]
  },
  {
   "cell_type": "code",
   "execution_count": null,
   "metadata": {
    "slideshow": {
     "slide_type": "slide"
    }
   },
   "outputs": [],
   "source": [
    "float(second) + float(third)"
   ]
  },
  {
   "cell_type": "code",
   "execution_count": null,
   "metadata": {
    "slideshow": {
     "slide_type": "slide"
    }
   },
   "outputs": [],
   "source": [
    "first + int(third)"
   ]
  },
  {
   "cell_type": "code",
   "execution_count": null,
   "metadata": {
    "slideshow": {
     "slide_type": "slide"
    }
   },
   "outputs": [],
   "source": [
    "first + int(float(third))"
   ]
  },
  {
   "cell_type": "code",
   "execution_count": null,
   "metadata": {
    "slideshow": {
     "slide_type": "slide"
    }
   },
   "outputs": [],
   "source": [
    "int(first) + int(float(third))"
   ]
  },
  {
   "cell_type": "code",
   "execution_count": null,
   "metadata": {
    "slideshow": {
     "slide_type": "slide"
    }
   },
   "outputs": [],
   "source": [
    "2.0 * second"
   ]
  },
  {
   "cell_type": "markdown",
   "metadata": {
    "slideshow": {
     "slide_type": "slide"
    }
   },
   "source": [
    ":Solution+"
   ]
  },
  {
   "cell_type": "markdown",
   "metadata": {
    "slideshow": {
     "slide_type": "slide"
    }
   },
   "source": [
    "## Exercise: Division Types\n",
    "\n",
    "In Python 3, we have seen how the `/` operator performs floating-point division, even if the values that it operates on are `integers`, these are first converted to `floats`. If we want to explicitly tell Python 3 to perform an integer calculation, the `//` operator performs integer (whole-number) floor division, and the `%` (or modulo) operator calculates and returns the remainder from integer division.  Try the following:\n",
    "\n",
    "```python\n",
    "print('5 // 3:', 5//3)\n",
    "print('5 / 3:', 5/3)\n",
    "print('5 % 3:', 5%3)\n",
    "```\n",
    "\n",
    "Once again try to work out what the result, and its type are likely to be before running the code.\n",
    "\n",
    "[Solution]()"
   ]
  },
  {
   "cell_type": "markdown",
   "metadata": {},
   "source": [
    "## Solution+: Division Types"
   ]
  },
  {
   "cell_type": "code",
   "execution_count": 15,
   "metadata": {},
   "outputs": [
    {
     "name": "stdout",
     "output_type": "stream",
     "text": [
      "5 // 3: 1 <class 'int'>\n",
      "5 / 3: 1.6666666666666667 <class 'float'>\n",
      "5 % 3: 2 <class 'int'>\n"
     ]
    }
   ],
   "source": [
    "print('5 // 3:', 5//3, type(5//3))\n",
    "print('5 / 3:', 5/3, type(5/3))\n",
    "print('5 % 3:', 5%3, type(5%3))"
   ]
  },
  {
   "cell_type": "markdown",
   "metadata": {},
   "source": [
    ":Solution+"
   ]
  },
  {
   "cell_type": "markdown",
   "metadata": {
    "slideshow": {
     "slide_type": "slide"
    }
   },
   "source": [
    "## Key Points:\n",
    "- Every value has a type.\n",
    "- In Python you can use the built-in function `type` to find the type of a value.\n",
    "- The `type` controls what operations can be done on values.\n",
    "- Strings can be added and multiplied.\n",
    "- Must convert numbers to strings or vice versa when operating on them.\n",
    "- In Python you can mix integers and floats freely in operations.\n",
    "- Variables only change value when something is assigned to them."
   ]
  }
 ],
 "metadata": {
  "celltoolbar": "Slideshow",
  "kernelspec": {
   "display_name": "Python 3",
   "language": "python",
   "name": "python3"
  },
  "language_info": {
   "codemirror_mode": {
    "name": "ipython",
    "version": 3
   },
   "file_extension": ".py",
   "mimetype": "text/x-python",
   "name": "python",
   "nbconvert_exporter": "python",
   "pygments_lexer": "ipython3",
   "version": "3.7.3"
  }
 },
 "nbformat": 4,
 "nbformat_minor": 2
}

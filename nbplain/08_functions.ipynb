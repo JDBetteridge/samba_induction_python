{
 "cells": [
  {
   "cell_type": "markdown",
   "metadata": {
    "slideshow": {
     "slide_type": "slide"
    }
   },
   "source": [
    "# Creating Functions"
   ]
  },
  {
   "cell_type": "markdown",
   "metadata": {
    "slideshow": {
     "slide_type": "slide"
    }
   },
   "source": [
    "## Overview:\n",
    "- **Teaching:** 10 min\n",
    "- **Exercises:** 10 min\n",
    "\n",
    "**Questions**\n",
    "- What is a function?\n",
    "- How can I define new functions?\n",
    "- What’s the difference between defining and calling a function?\n",
    "- What happens when I call a function?\n",
    "\n",
    "**Objectives**\n",
    "- Define a function that takes parameters.\n",
    "- Return a value from a function.\n",
    "- Test and debug a function.\n",
    "- Set default values for function parameters.\n",
    "- Explain why we should divide programs into small, single-purpose functions."
   ]
  },
  {
   "cell_type": "markdown",
   "metadata": {
    "slideshow": {
     "slide_type": "slide"
    }
   },
   "source": [
    "So far we have looked how to use variables to perform calculations, and explored loops and conditionals which form the basic building blocks of programming.\n",
    "But what we would like to do is get to the stage where we can write blocks of functional code to perform a specific task, since cutting and pasting it is going to make our code very long and very repetitive, very quickly.\n",
    "We’d like a way to package our code so that it is easier to re-use, and Python provides for this by letting us define things called 'functions'  a shorthand way of re-executing longer pieces of code.\n",
    "Let’s start by defining a function that does what all good first examples should do, display \"Hello World!\"."
   ]
  },
  {
   "cell_type": "code",
   "execution_count": 1,
   "metadata": {
    "slideshow": {
     "slide_type": "subslide"
    }
   },
   "outputs": [],
   "source": [
    "def print_greeting():\n",
    "    print('Hello World!')"
   ]
  },
  {
   "cell_type": "markdown",
   "metadata": {
    "slideshow": {
     "slide_type": "slide"
    }
   },
   "source": [
    "When we create a function and \"run\" it, nothing happens.\n",
    "This is sensible because what we want to do is create the function once, and then run it when we want to execute the code.\n",
    "We do this by **calling** the function:"
   ]
  },
  {
   "cell_type": "code",
   "execution_count": 2,
   "metadata": {
    "slideshow": {
     "slide_type": "subslide"
    }
   },
   "outputs": [
    {
     "name": "stdout",
     "output_type": "stream",
     "text": [
      "Hello World!\n"
     ]
    }
   ],
   "source": [
    "print_greeting()"
   ]
  },
  {
   "cell_type": "markdown",
   "metadata": {
    "slideshow": {
     "slide_type": "slide"
    }
   },
   "source": [
    "This is all very well but it's unlikely that this is a function that we are going to have much use for.\n",
    "Let's write a function `fahr_to_celsius` that converts temperatures from Fahrenheit to Celsius, and then we'll examine its structure:"
   ]
  },
  {
   "cell_type": "code",
   "execution_count": 3,
   "metadata": {
    "slideshow": {
     "slide_type": "subslide"
    }
   },
   "outputs": [],
   "source": [
    "def fahr_to_celsius(temp):\n",
    "    return ((temp - 32) * (5/9))"
   ]
  },
  {
   "cell_type": "markdown",
   "metadata": {
    "slideshow": {
     "slide_type": "slide"
    }
   },
   "source": [
    "Let's examine the different parts of our function:\n",
    "\n",
    "![Anatomy of a python function](../images/python-function.png)\n",
    "\n",
    "The function definition opens with the keyword `def` followed by the name of the function `fahr_to_celsius` and a parenthesized list of parameter (or argument) names `temp`.\n",
    "The **body** of the function - the statements that are executed when it runs - is indented below the definition line. \n",
    "The body concludes with the keyword `return` followed by the value the function calculates.\n",
    "\n",
    "When we call the function, the values we pass to it are assigned to those variables so that we can use them inside the function. \n",
    "Inside the function, we use a return statement to send a result back to whoever asked for it.\n",
    "\n",
    "Let's try running the function..."
   ]
  },
  {
   "cell_type": "code",
   "execution_count": 4,
   "metadata": {
    "slideshow": {
     "slide_type": "subslide"
    }
   },
   "outputs": [
    {
     "data": {
      "text/plain": [
       "0.0"
      ]
     },
     "execution_count": 4,
     "metadata": {},
     "output_type": "execute_result"
    }
   ],
   "source": [
    "fahr_to_celsius(32)"
   ]
  },
  {
   "cell_type": "markdown",
   "metadata": {
    "slideshow": {
     "slide_type": "slide"
    }
   },
   "source": [
    "This command should call our function, using “32” as the input and return the function value.\n",
    "\n",
    "In fact, calling our own function is no different from calling any other function.\n",
    "Throughout these lessons we have been using built-in functions like `print()`, `type()`, `int()`, `str()`, `range()`, etc.\n",
    "Our new function is no different except that we have defined it ourselves."
   ]
  },
  {
   "cell_type": "code",
   "execution_count": 5,
   "metadata": {
    "slideshow": {
     "slide_type": "subslide"
    }
   },
   "outputs": [
    {
     "name": "stdout",
     "output_type": "stream",
     "text": [
      "freezing point of water: 0.0 C\n",
      "boiling point of water: 100.0 C\n"
     ]
    }
   ],
   "source": [
    "print('freezing point of water:', fahr_to_celsius(32), 'C')\n",
    "print('boiling point of water:', fahr_to_celsius(212), 'C')"
   ]
  },
  {
   "cell_type": "markdown",
   "metadata": {
    "slideshow": {
     "slide_type": "subslide"
    }
   },
   "source": [
    "We’ve successfully called the function that we defined, and we have access to the value that we returned."
   ]
  },
  {
   "cell_type": "markdown",
   "metadata": {
    "slideshow": {
     "slide_type": "slide"
    }
   },
   "source": [
    "## Composing Functions\n",
    "Now that we’ve seen how to turn Fahrenheit into Celsius, we can also write the function to turn Celsius into Kelvin"
   ]
  },
  {
   "cell_type": "code",
   "execution_count": 6,
   "metadata": {
    "slideshow": {
     "slide_type": "subslide"
    }
   },
   "outputs": [],
   "source": [
    "def celsius_to_kelvin(temp_c):\n",
    "    return temp_c + 273.15"
   ]
  },
  {
   "cell_type": "markdown",
   "metadata": {
    "slideshow": {
     "slide_type": "subslide"
    }
   },
   "source": [
    "We can run the function as we did before"
   ]
  },
  {
   "cell_type": "code",
   "execution_count": 7,
   "metadata": {
    "slideshow": {
     "slide_type": "subslide"
    }
   },
   "outputs": [
    {
     "name": "stdout",
     "output_type": "stream",
     "text": [
      "freezing point of water in Kelvin: 273.15\n"
     ]
    }
   ],
   "source": [
    "print('freezing point of water in Kelvin:', celsius_to_kelvin(0.))"
   ]
  },
  {
   "cell_type": "markdown",
   "metadata": {
    "slideshow": {
     "slide_type": "slide"
    }
   },
   "source": [
    "What about converting Fahrenheit to Kelvin? \n",
    "We could write out the formula from scratch, but we don’t need to.\n",
    "Instead, we can compose the two functions we have already created and test it:"
   ]
  },
  {
   "cell_type": "code",
   "execution_count": 8,
   "metadata": {
    "slideshow": {
     "slide_type": "subslide"
    }
   },
   "outputs": [],
   "source": [
    "def fahr_to_kelvin(temp_f):\n",
    "    temp_c = fahr_to_celsius(temp_f)\n",
    "    temp_k = celsius_to_kelvin(temp_c)\n",
    "    return temp_k"
   ]
  },
  {
   "cell_type": "code",
   "execution_count": 9,
   "metadata": {
    "slideshow": {
     "slide_type": "subslide"
    }
   },
   "outputs": [
    {
     "name": "stdout",
     "output_type": "stream",
     "text": [
      "boiling point of water in Kelvin: 373.15\n"
     ]
    }
   ],
   "source": [
    "print('boiling point of water in Kelvin:', fahr_to_kelvin(212.0))"
   ]
  },
  {
   "cell_type": "markdown",
   "metadata": {
    "slideshow": {
     "slide_type": "subslide"
    }
   },
   "source": [
    "This is our first taste of how larger programs are built: we define basic operations, then combine them in ever-large chunks to get the effect we want.\n",
    "Real-life functions will usually be larger than the ones shown here - typically half a dozen to a few dozen lines - but they shouldn’t ever be much longer than that.\n",
    "Otherwise the next person who reads it (likely to be our future selves!) won’t be able to understand what’s going on."
   ]
  },
  {
   "cell_type": "markdown",
   "metadata": {
    "slideshow": {
     "slide_type": "slide"
    }
   },
   "source": [
    "## Defining Defaults\n",
    "\n",
    "We have also already seen that it is possible to define `default` values.\n",
    "If you remember when we used `range(10)`, `10` is the `stop` value of the function, but the function had default values, `start = 0` and `step = 1`.\n",
    "We can do the same in our own functions and will consider the following example:"
   ]
  },
  {
   "cell_type": "code",
   "execution_count": 10,
   "metadata": {
    "slideshow": {
     "slide_type": "subslide"
    }
   },
   "outputs": [],
   "source": [
    "def display(a=1, b=2, c=3):\n",
    "    print('a:', a, 'b:', b, 'c:', c)"
   ]
  },
  {
   "cell_type": "markdown",
   "metadata": {
    "slideshow": {
     "slide_type": "subslide"
    }
   },
   "source": [
    "We first run the function with no parameters:"
   ]
  },
  {
   "cell_type": "code",
   "execution_count": 11,
   "metadata": {
    "slideshow": {
     "slide_type": "subslide"
    }
   },
   "outputs": [
    {
     "name": "stdout",
     "output_type": "stream",
     "text": [
      "no parameters:\n",
      "a: 1 b: 2 c: 3\n"
     ]
    }
   ],
   "source": [
    "print('no parameters:')\n",
    "display()"
   ]
  },
  {
   "cell_type": "markdown",
   "metadata": {
    "slideshow": {
     "slide_type": "slide"
    }
   },
   "source": [
    "If we instead call the function with one, two or three values, these are used as the parameters of the function"
   ]
  },
  {
   "cell_type": "code",
   "execution_count": 12,
   "metadata": {
    "slideshow": {
     "slide_type": "subslide"
    }
   },
   "outputs": [
    {
     "name": "stdout",
     "output_type": "stream",
     "text": [
      "one parameter:\n",
      "a: 55 b: 2 c: 3\n",
      "two parameters:\n",
      "a: 55 b: 66 c: 3\n",
      "three parameters\n",
      "a: 55 b: 66 c: 77\n"
     ]
    }
   ],
   "source": [
    "print('one parameter:')\n",
    "display(55)\n",
    "print('two parameters:')\n",
    "display(55, 66)\n",
    "print('three parameters')\n",
    "display(55,66,77)"
   ]
  },
  {
   "cell_type": "markdown",
   "metadata": {
    "slideshow": {
     "slide_type": "subslide"
    }
   },
   "source": [
    "This example shows that parameters are matched up from left to right, and any that haven’t been given a value explicitly get their default value.\n",
    "\n",
    "We can override this behavior by assigning the value we pass in to a specific parameter in our function:"
   ]
  },
  {
   "cell_type": "code",
   "execution_count": 13,
   "metadata": {
    "slideshow": {
     "slide_type": "subslide"
    }
   },
   "outputs": [
    {
     "name": "stdout",
     "output_type": "stream",
     "text": [
      "only setting the value of c\n",
      "a: 1 b: 2 c: 77\n"
     ]
    }
   ],
   "source": [
    "print('only setting the value of c')\n",
    "display(c=77)"
   ]
  },
  {
   "cell_type": "markdown",
   "metadata": {},
   "source": [
    "## Information+: Default values for optional arguments\n",
    "\n",
    "As with `range`, which we have seen before, we can also make a selection of our function's parameters optional by assigning them default values.\n",
    "Consider the following function which evaluates the function\n",
    "$$ f(x) = \\frac{x^2}{a^2} + \\frac{y^2}{b^2} $$\n",
    "with the default option of `a=1.0`, b=`1.0`."
   ]
  },
  {
   "cell_type": "code",
   "execution_count": 14,
   "metadata": {},
   "outputs": [],
   "source": [
    "def f(x, y, a=1.0, b=1.0):\n",
    "    return x*x/(a*a) + y*y/(b*b)"
   ]
  },
  {
   "cell_type": "markdown",
   "metadata": {},
   "source": [
    "Our function `f` has two required (or positional) arguments, `x` and `y`, and two optional arguments `a` and `b`.\n",
    "We can call our function `f` by supplying both the required arguments, and any number of the optional arguments."
   ]
  },
  {
   "cell_type": "code",
   "execution_count": 15,
   "metadata": {},
   "outputs": [
    {
     "name": "stdout",
     "output_type": "stream",
     "text": [
      "5.0\n",
      "16.25\n",
      "4.25\n",
      "17.0\n"
     ]
    }
   ],
   "source": [
    "#just supplying the required arguments\n",
    "print(f(1.0,2.0)) \n",
    "\n",
    "#specifying the required arguments, and the optional arguments\n",
    "#the optional arguments are assigned in the order they appear in the function definition\n",
    "print(f(1.0,2.0,2.0,0.5)) \n",
    "\n",
    "#we can also specify the optional arguments by name\n",
    "#you must match the name of the optional argument with that which appears in the function definition,\n",
    "#if you use this method\n",
    "print(f(1.0,2.0,a=2.0)) #a=2.0, b=1.0 (keeps default value)\n",
    "print(f(1.0,2.0,b=0.5)) #a=1.0 (keeps default value), b=0.5"
   ]
  },
  {
   "cell_type": "markdown",
   "metadata": {},
   "source": [
    ":Information+"
   ]
  },
  {
   "cell_type": "markdown",
   "metadata": {
    "slideshow": {
     "slide_type": "slide"
    }
   },
   "source": [
    "## Readable Functions\n",
    "\n",
    "As we suggested earlier it is best to write the functions so that they are readable so that we can more easily understand when we return to them in the future.  Consider the following"
   ]
  },
  {
   "cell_type": "code",
   "execution_count": 16,
   "metadata": {
    "slideshow": {
     "slide_type": "subslide"
    }
   },
   "outputs": [],
   "source": [
    "def m(p):\n",
    "    a = 0\n",
    "    for v in p:\n",
    "        a += v\n",
    "    m = a / len(p)\n",
    "    return m"
   ]
  },
  {
   "cell_type": "code",
   "execution_count": 17,
   "metadata": {
    "slideshow": {
     "slide_type": "subslide"
    }
   },
   "outputs": [],
   "source": [
    "def mean(sample):\n",
    "    sample_sum = 0\n",
    "    for value in sample:\n",
    "        sample_sum += value\n",
    "\n",
    "    sample_mean = sample_sum / len(sample)\n",
    "    return sample_mean"
   ]
  },
  {
   "cell_type": "markdown",
   "metadata": {
    "slideshow": {
     "slide_type": "slide"
    }
   },
   "source": [
    "The functions `m` and `mean` are computationally equivalent (they both calculate the sample `mean`), but to a human reader, they look very different.\n",
    "You probably found `mean` much easier to read and understand than `m`.\n",
    "\n",
    "As this example illustrates, both documentation and a programmer’s coding style combine to determine how easy it is for others to read and understand the programmer’s code.\n",
    "Choosing meaningful variable names and using blank spaces to break the code into logical “chunks” are helpful techniques for producing readable code.\n",
    "This is useful not only for sharing code with others, but also for the original programmer.\n",
    "If you need to revisit code that you wrote months ago and haven’t thought about since then, you will appreciate the value of readable code!"
   ]
  },
  {
   "cell_type": "markdown",
   "metadata": {
    "slideshow": {
     "slide_type": "slide"
    }
   },
   "source": [
    "## Document your functions\n",
    "\n",
    "You can also add documentation to your function using a docstring, to inform users what the code does and aid readability:"
   ]
  },
  {
   "cell_type": "code",
   "execution_count": 18,
   "metadata": {
    "slideshow": {
     "slide_type": "subslide"
    }
   },
   "outputs": [],
   "source": [
    "def mean(sample):\n",
    "    '''\n",
    "    Takes a list of numbers, sample,\n",
    "    and returns the mean.\n",
    "    '''\n",
    "    sample_sum = 0\n",
    "    for value in sample:\n",
    "        sample_sum += value\n",
    "\n",
    "    sample_mean = sample_sum / len(sample)\n",
    "    return sample_mean"
   ]
  },
  {
   "cell_type": "markdown",
   "metadata": {
    "slideshow": {
     "slide_type": "slide"
    }
   },
   "source": [
    "You can then get information about your function with `help`"
   ]
  },
  {
   "cell_type": "code",
   "execution_count": 19,
   "metadata": {},
   "outputs": [
    {
     "name": "stdout",
     "output_type": "stream",
     "text": [
      "Help on function mean in module __main__:\n",
      "\n",
      "mean(sample)\n",
      "    Takes a list of numbers, sample,\n",
      "    and returns the mean.\n",
      "\n"
     ]
    }
   ],
   "source": [
    "help(mean)"
   ]
  },
  {
   "cell_type": "markdown",
   "metadata": {
    "slideshow": {
     "slide_type": "slide"
    }
   },
   "source": [
    "## Exercise: Combining Strings\n",
    "\n",
    "We have seen how we can “add” two strings to produce their concatenation: 'a' + 'b' is 'ab'. \n",
    "Write a function called fence that takes two parameters called `original` and `wrapper` and returns a new string that has the `wrapper` character at the beginning and end of the original. \n",
    "A call to your function should look like this:\n",
    "```python\n",
    "print(fence('name', '*'))\n",
    "*name*\n",
    "```\n",
    "Before you write your function think about what it will need to look like and write this out in natural language using **pseudocode** or a flow chart.\n",
    "\n",
    "[Solution]()"
   ]
  },
  {
   "cell_type": "markdown",
   "metadata": {
    "slideshow": {
     "slide_type": "slide"
    }
   },
   "source": [
    "## Solution+: Combining Strings\n",
    "\n",
    "Your pseudocode might look like:\n",
    "\n",
    "1. Define function with two parameters original and wrapper\n",
    "2. Combine the parameters into a new string the order: wrapper, original, wrapper\n",
    "3. Return the new string\n",
    "\n",
    "As for the function code, you can see it below:"
   ]
  },
  {
   "cell_type": "code",
   "execution_count": 20,
   "metadata": {
    "slideshow": {
     "slide_type": "slide"
    }
   },
   "outputs": [
    {
     "name": "stdout",
     "output_type": "stream",
     "text": [
      "*name*\n"
     ]
    }
   ],
   "source": [
    "def fence(original, wrapper):\n",
    "    '''\n",
    "    Takes a string, original, and a character (length 1 string) wrapper.\n",
    "    Returns a new string which has the character in wrapper at the start and end of original.\n",
    "    '''\n",
    "    new_string = wrapper + original + wrapper\n",
    "    return new_string\n",
    "\n",
    "print(fence('name', '*'))"
   ]
  },
  {
   "cell_type": "markdown",
   "metadata": {},
   "source": [
    ":Solution+"
   ]
  },
  {
   "cell_type": "markdown",
   "metadata": {
    "slideshow": {
     "slide_type": "slide"
    }
   },
   "source": [
    "## Exercise: `Return` versus `print`\n",
    "\n",
    "Note that `return` and `print` are not interchangeable.\n",
    "`print` is a Python function that prints data to the screen.\n",
    "It enables us, users, to see the data.\n",
    "The `return` statement, on the other hand, passes data back to the program that called the function.\n",
    "Let’s have a look at the following function:\n",
    "\n",
    "```python\n",
    "def add(a, b):\n",
    "    print(a + b)\n",
    "```\n",
    "If we run the follwing commands: \n",
    "```python\n",
    "A = add(7, 3)\n",
    "print(A)\n",
    "```\n",
    "what will be displayed?\n",
    "\n",
    "[Solution]()"
   ]
  },
  {
   "cell_type": "markdown",
   "metadata": {
    "slideshow": {
     "slide_type": "slide"
    }
   },
   "source": [
    "## Solution+: `Return` versus `print`\n",
    "\n",
    "Python will first execute the function add with `a = 7` and `b = 3`, and, therefore, print `10`.\n",
    "However because the function `add` does not have a line that starts with `return` (no return “statement”), it will return nothing which, in Python world, is called `None`.\n",
    "Therefore, `A` will be assigned `None` and the last line (`print(A)`) will print `None`.\n",
    "As a result, we will see:"
   ]
  },
  {
   "cell_type": "code",
   "execution_count": 21,
   "metadata": {},
   "outputs": [
    {
     "name": "stdout",
     "output_type": "stream",
     "text": [
      "10\n",
      "None\n"
     ]
    }
   ],
   "source": [
    "def add(a,b):\n",
    "    print(a + b)\n",
    "    \n",
    "A = add(7, 3)\n",
    "print(A)"
   ]
  },
  {
   "cell_type": "markdown",
   "metadata": {
    "slideshow": {
     "slide_type": "slide"
    }
   },
   "source": [
    "If we want to return the value rather than print it we must replace `print` in our **function** with `return`."
   ]
  },
  {
   "cell_type": "code",
   "execution_count": 22,
   "metadata": {},
   "outputs": [
    {
     "name": "stdout",
     "output_type": "stream",
     "text": [
      "10\n"
     ]
    }
   ],
   "source": [
    "def add_return(a,b):\n",
    "    return a+b\n",
    "\n",
    "A = add_return(7, 3)\n",
    "print(A)"
   ]
  },
  {
   "cell_type": "markdown",
   "metadata": {
    "slideshow": {
     "slide_type": "slide"
    }
   },
   "source": [
    ":Solution+"
   ]
  },
  {
   "cell_type": "markdown",
   "metadata": {
    "slideshow": {
     "slide_type": "slide"
    }
   },
   "source": [
    "## Exercise+: Calling by name\n",
    "\n",
    "Let's write a function that takes three parameters, `year`, `month` and `day` and prints them in a nice format:"
   ]
  },
  {
   "cell_type": "code",
   "execution_count": 23,
   "metadata": {
    "slideshow": {
     "slide_type": "slide"
    }
   },
   "outputs": [],
   "source": [
    "def print_date(year, month, day):\n",
    "    joined = str(year) + '/' + str(month) + '/' + str(day)\n",
    "    print(joined)"
   ]
  },
  {
   "cell_type": "markdown",
   "metadata": {
    "slideshow": {
     "slide_type": "slide"
    }
   },
   "source": [
    "Earlier we saw that we can call the function using named arguments, like this:\n",
    "```python\n",
    "print_date(day=1, month=2, year=2003)\n",
    "```\n",
    "1. What does \n",
    "```python\n",
    "print_date(day=1, month=2, year=2003)```\n",
    "print?\n",
    "2. What does\n",
    "```python\n",
    "print_date(month=11, year=2018, day=21)\n",
    "```\n",
    "print?\n",
    "3. When and why is it useful to call functions this way?\n",
    "\n",
    "[Solution]()\n",
    "\n",
    ":Exercise+"
   ]
  },
  {
   "cell_type": "markdown",
   "metadata": {
    "slideshow": {
     "slide_type": "slide"
    }
   },
   "source": [
    "## Solution+: Calling by name\n",
    "\n",
    "The outputs produced are"
   ]
  },
  {
   "cell_type": "code",
   "execution_count": 24,
   "metadata": {},
   "outputs": [
    {
     "name": "stdout",
     "output_type": "stream",
     "text": [
      "2003/2/1\n",
      "2018/11/21\n"
     ]
    }
   ],
   "source": [
    "print_date(day=1, month=2, year=2003)\n",
    "print_date(month=11, year=2018, day=21)"
   ]
  },
  {
   "cell_type": "markdown",
   "metadata": {
    "slideshow": {
     "slide_type": "slide"
    }
   },
   "source": [
    "Using named arguments can make code more readable since one can see from the function call what name the different arguments have inside the function.\n",
    "It can also reduce the chances of passing arguments in the wrong order, since by using named arguments the order doesn’t matter.\n",
    "\n",
    ":Solution+"
   ]
  },
  {
   "cell_type": "markdown",
   "metadata": {
    "slideshow": {
     "slide_type": "slide"
    }
   },
   "source": [
    "## Exercise:  The Old Switcheroo\n",
    "\n",
    "Consider this code:\n",
    "```python\n",
    "a = 3\n",
    "b = 7\n",
    "\n",
    "def swap(a, b):\n",
    "    temp = a\n",
    "    a = b\n",
    "    b = temp\n",
    "\n",
    "swap(a, b)\n",
    "\n",
    "print(a, b)\n",
    "```\n",
    "Which of the following would be printed if you were to run this code?\n",
    "```python\n",
    "7 3\n",
    "3 7\n",
    "3 3\n",
    "7 7\n",
    "```\n",
    "Why did you pick this answer?\n",
    "\n",
    "[Solution]()"
   ]
  },
  {
   "cell_type": "markdown",
   "metadata": {
    "slideshow": {
     "slide_type": "slide"
    }
   },
   "source": [
    "## Solution+: The Old Switcheroo\n",
    "\n",
    "`3 7` is the correct answer, as we can see if we run the code below:"
   ]
  },
  {
   "cell_type": "code",
   "execution_count": 25,
   "metadata": {},
   "outputs": [
    {
     "name": "stdout",
     "output_type": "stream",
     "text": [
      "3 7\n"
     ]
    }
   ],
   "source": [
    "a = 3\n",
    "b = 7\n",
    "\n",
    "def swap(a, b):\n",
    "    temp = a\n",
    "    a = b\n",
    "    b = temp\n",
    "\n",
    "swap(a, b)\n",
    "\n",
    "print(a, b)"
   ]
  },
  {
   "cell_type": "markdown",
   "metadata": {
    "slideshow": {
     "slide_type": "slide"
    }
   },
   "source": [
    "Initially, `a` has a value of `3` and `b` has a value of `7`.\n",
    "When the `swap` function is called, it creates local variables (also called `a` and `b` in this case) and trades their values.\n",
    "The function does not return any values and does not alter `a` or `b` outside of its local copy.\n",
    "Therefore the original values of `a` and `b` remain unchanged.\n",
    "\n",
    "If we want to swap two values in Python we need to use something like the following"
   ]
  },
  {
   "cell_type": "code",
   "execution_count": 26,
   "metadata": {
    "slideshow": {
     "slide_type": "slide"
    }
   },
   "outputs": [
    {
     "name": "stdout",
     "output_type": "stream",
     "text": [
      "7 3\n"
     ]
    }
   ],
   "source": [
    "a = 3\n",
    "b = 7\n",
    "\n",
    "def swap(a, b):\n",
    "    return b, a\n",
    "\n",
    "a, b = swap(a, b)\n",
    "\n",
    "print(a, b)"
   ]
  },
  {
   "cell_type": "markdown",
   "metadata": {
    "slideshow": {
     "slide_type": "slide"
    }
   },
   "source": [
    "This reverses the order of the parameters when they are returned and does swap the two values.\n",
    "\n",
    ":Solution+"
   ]
  },
  {
   "cell_type": "markdown",
   "metadata": {
    "slideshow": {
     "slide_type": "slide"
    }
   },
   "source": [
    "## Exercise: Find the First\n",
    "Now let's try combining all the components we have used so far.\n",
    "See if you can fill in the blanks to create a function that takes a list of numbers as an argument and returns the first negative value in the list.\n",
    "What does your function do if the list is empty?\n",
    "```python\n",
    "def first_negative(values):\n",
    "    for v in ____:\n",
    "        if ____:\n",
    "            return ____\n",
    "```\n",
    "\n",
    "Once you have a function that you think will work, test it by creating a list of numbers and checking the result.\n",
    "\n",
    "[Solution]()"
   ]
  },
  {
   "cell_type": "markdown",
   "metadata": {},
   "source": [
    "## Solution+: Find the First\n",
    "\n",
    "Your function should look something like:"
   ]
  },
  {
   "cell_type": "code",
   "execution_count": 27,
   "metadata": {},
   "outputs": [
    {
     "name": "stdout",
     "output_type": "stream",
     "text": [
      "-1\n"
     ]
    }
   ],
   "source": [
    "def first_negative(values):\n",
    "    for v in values:\n",
    "        if v<0:\n",
    "            return v\n",
    "        \n",
    "print(first_negative([0, -1, 1, -2, 2]))"
   ]
  },
  {
   "cell_type": "markdown",
   "metadata": {},
   "source": [
    "Now if we pass an empty list `[]` into `first_negative`, we get `None` as an output: "
   ]
  },
  {
   "cell_type": "code",
   "execution_count": 28,
   "metadata": {},
   "outputs": [
    {
     "name": "stdout",
     "output_type": "stream",
     "text": [
      "None\n"
     ]
    }
   ],
   "source": [
    "print(first_negative([]))"
   ]
  },
  {
   "cell_type": "markdown",
   "metadata": {},
   "source": [
    "This is because there are *no items* in the empty list `[]`, and thus the loop doesn't run over any values (and so the code in it's body never runs).\n",
    "Hence, the `return v` statement is never reached, so Python defaults to returning `None` once the function finishes running.\n",
    "\n",
    "A similar thing will happen if all the values are positive:"
   ]
  },
  {
   "cell_type": "code",
   "execution_count": 29,
   "metadata": {},
   "outputs": [
    {
     "name": "stdout",
     "output_type": "stream",
     "text": [
      "None\n"
     ]
    }
   ],
   "source": [
    "print(first_negative([1,2,3,4,5]))"
   ]
  },
  {
   "cell_type": "markdown",
   "metadata": {},
   "source": [
    "This time, the `for` loop can loop over each of the values in the list, but because none of them are negative, the condition `v < 0` is never `True`.\n",
    "Thus, the body of the `if` statement is never run, and so `return v` never happens.\n",
    "So `first_negative` returns the default `None` again.\n",
    "\n",
    ":Solution+"
   ]
  },
  {
   "cell_type": "markdown",
   "metadata": {
    "slideshow": {
     "slide_type": "slide"
    }
   },
   "source": [
    "## Key Points:\n",
    "- Define a function using `def function_name(parameter)`.\n",
    "- The body of a function must be indented.\n",
    "- Call a function using `function_name(value)`.\n",
    "- Variables defined within a function can only be seen and used within the body of the function.\n",
    "- If a variable is not defined within the function it is used, Python looks for a definition before the function call.\n",
    "- Use `help(thing)` to view help for something.\n",
    "- Put docstrings in functions to provide help for that function.\n",
    "- Specify default values for parameters when defining a function using `name=value` in the parameter list.\n",
    "- Parameters can be passed by matching based on name, by position, or by omitting them (in which case the default value is used).\n",
    "- Put code whose parameters change frequently in a function, then call it with different parameter values to customize its behavior."
   ]
  }
 ],
 "metadata": {
  "celltoolbar": "Slideshow",
  "kernelspec": {
   "display_name": "Python 3",
   "language": "python",
   "name": "python3"
  },
  "language_info": {
   "codemirror_mode": {
    "name": "ipython",
    "version": 3
   },
   "file_extension": ".py",
   "mimetype": "text/x-python",
   "name": "python",
   "nbconvert_exporter": "python",
   "pygments_lexer": "ipython3",
   "version": "3.7.3"
  }
 },
 "nbformat": 4,
 "nbformat_minor": 2
}

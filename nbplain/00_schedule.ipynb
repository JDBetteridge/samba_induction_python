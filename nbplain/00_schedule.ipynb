{
 "cells": [
  {
   "cell_type": "markdown",
   "metadata": {
    "slideshow": {
     "slide_type": "slide"
    }
   },
   "source": [
    "# Introduction to Python\n",
    "\n",
    "The best way to learn how to program is to do something useful, so this introduction to Python is built around a common scientific task: data analysis.\n",
    "\n",
    "Our real goal isn’t to just to teach Python, but to teach you the basic concepts that all programming depends on. We use Python in our lessons because:\n",
    "\n",
    "- We have to use something for examples\n",
    "- It’s free, well-documented, and runs almost everywhere\n",
    "- It has a large (and growing) user base among scientists\n",
    "- Experience shows that it’s easier for novices to pick up than most other languages.\n",
    "\n",
    "But the two most important things are to use whatever language your colleagues are using, so that you can share your work with them easily, and to use that language well.\n"
   ]
  },
  {
   "cell_type": "markdown",
   "metadata": {
    "slideshow": {
     "slide_type": "slide"
    }
   },
   "source": [
    "## Prerequisites:\n",
    "\n",
    "In order to complete the tutorial you should be familar with:\n",
    "- The linux command line"
   ]
  },
  {
   "cell_type": "markdown",
   "metadata": {},
   "source": [
    "## Information:\n",
    "If you are looking for the [worksheets](./worksheet/01_python.html) or their [solutions](./worksheet/01_python-soln.html) click on the links."
   ]
  },
  {
   "cell_type": "markdown",
   "metadata": {
    "slideshow": {
     "slide_type": "slide"
    }
   },
   "source": [
    "## Schedule:\n",
    "\n",
    "If this is your first time using Python, the following lessons should take you through all you need to know about it's basic syntax, as well as some of it's programming ethos.\n",
    "\n",
    "| Time | Episode | Description |\n",
    "|:-:|:--|:--|\n",
    "| 0:00 | [Setup](./00_setup.ipynb) | Get set(up) |\n",
    "| 0:10 | [Getting Started with Python](./01_getting-started.ipynb) | Some first programs |\n",
    "| 0:30 | [Variables and Assignment](./02_variables.ipynb) | How do we store and access data? |\n",
    "| 0:50 | [Jupyter Notebooks](./03_jupyter.ipynb) | What's in a Jupyter notebook? |\n",
    "| 1:15 | [Datatypes and Conversion](./04_datatypes.ipynb) | How does python store data? |\n",
    "| 1:40 | [Lists](./05_lists.ipynb) | How can we store lists of data? |\n",
    "| 2:10 | [Looping](./06_looping.ipynb) | How do we efficiently access data stored in lists? |\n",
    "| 2:40 | [Making Choices](./07_choices.ipynb) | If then what or else |\n",
    "| 3:05 | [Creating Functions](./08_functions.ipynb) | Functions contain modular blocks of code for reuse |\n",
    "\n",
    "For those who work fast or simply want to know more, there are three more lessons which explore how we can add additional functionality to Python through libraries, use Python to interact with other files, and run Python scripts from the command line.\n",
    "\n",
    "| Time | Lesson | Description |\n",
    "|:-:|:--|:--|\n",
    "| 3:30 | [Libraries](./09_libraries.ipynb) | Avoid reinventing the wheel |\n",
    "| 3:50 | [Reading Data](./10_reading-data.ipynb) | How do we read data into python? |\n",
    "| 4:20 | [Command-Line Programs](./11_command-line.ipynb) | Combine all we've learnt to write a program we can run in the command line |"
   ]
  }
 ],
 "metadata": {
  "celltoolbar": "Slideshow",
  "kernelspec": {
   "display_name": "Python 3",
   "language": "python",
   "name": "python3"
  },
  "language_info": {
   "codemirror_mode": {
    "name": "ipython",
    "version": 3
   },
   "file_extension": ".py",
   "mimetype": "text/x-python",
   "name": "python",
   "nbconvert_exporter": "python",
   "pygments_lexer": "ipython3",
   "version": "3.7.3"
  }
 },
 "nbformat": 4,
 "nbformat_minor": 2
}

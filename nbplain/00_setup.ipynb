{
 "cells": [
  {
   "cell_type": "markdown",
   "metadata": {
    "slideshow": {
     "slide_type": "slide"
    }
   },
   "source": [
    "# Setting up Python"
   ]
  },
  {
   "cell_type": "markdown",
   "metadata": {},
   "source": [
    "## Information: Setup Options\n",
    "\n",
    "There are many ways to, and places that you can, setup Python (or a Python environment) that is suitable for these lessons.\n",
    "Please choose one based on the list and descriptions we provide below.\n",
    "These include:\n",
    "\n",
    "- <u>Via Azure Notebooks</u>: We have premade a Python environment on Azure notebooks which can be accessed and cloned by anyone with a University account. If you aren't sure on the setup, this is the option to try first. **NOTE:** The university's support of Azure notebooks will end 1st Oct, 2020.\n",
    "- <u>Via a local install</u>: Python can be installed locally onto your laptop or desktop PC - Linux users should even have Python as standard. We recommend that you install Anaconda/Conda rather than just Python, as this also comes with several useful features we describe below.\n",
    "- <u>Via Google CoLab</u>: Google also hosts an online Python service which can be accessed with a live internet connection."
   ]
  },
  {
   "cell_type": "markdown",
   "metadata": {
    "slideshow": {
     "slide_type": "slide"
    }
   },
   "source": [
    "## Setup: Azure Notebooks\n",
    "\n",
    "We will be using [notebooks.azure.com](https://notebooks.azure.com) for this lesson.\n",
    "Log-in with your University email account and clone the [library](https://notebooks.azure.com/jgrant/projects/intro-python) we will need:\n",
    "\n",
    "![Clone python library](../images/notebooks_clone_python.png)\n",
    "\n",
    "If you see 'Sign In' in the top right corner you have not yet logged in and won't be able to clone.  \n",
    "Once you have successfully cloned the library you need to start a session:\n",
    "\n",
    "![Start server](../images/notebooks_launch_python.png)\n",
    "\n",
    "Now you are ready to launch a notebook. notebooks.azure.com has several different **kernels** you can choose from depending on what language you want to run.  \n",
    "We will be using **Python 3.6**:\n",
    "\n",
    "![Launch notebook](../images/notebooks_launch_notebook.png)\n",
    "\n",
    "You are now ready to begin the lesson proper.  Scroll down to the bottom of the page and click **Next**."
   ]
  },
  {
   "cell_type": "markdown",
   "metadata": {},
   "source": [
    "## Setup: Local Install\n",
    "\n",
    "You can install Python locally and follow along with these lessons from your own machine.\n",
    "We recommend you [install Anaconda](https://www.anaconda.com/distribution/) because it will come with most standard Python packages, as well as Jupyter Notebooks and Spyder (an editing IDE) installed too.\n",
    "If you are fluent in the command line/terminal/UNIX shell you can install Conda instead - this is just Anaconda but without the graphical user interface (GUI) and operates soley through the terminal.\n",
    "Naturally we recommand Anaconda unless you really don't want to use a GUI, or you will be relying on using an environment where GUIs are disabled (like on a supercomputer).\n",
    "\n",
    "Once you have installed Anaconda, create a new Python 3 environment (choose the latest version of Python which should be 3.6 or 3.7) and make sure it has the following packages installed:\n",
    "- `math` (should be installed by default)\n",
    "- `sys` (should be installed by default)\n",
    "- `numpy`\n",
    "You may also want to include `scipy` and `pandas` if you plan to use Python for your research.\n",
    "Once you have created your environment, change into it (or `activate` it in the command line) and get (Ana)Conda to install `Jupyter Notebook` and/or `spyder` in the environment.\n",
    "Anaconda users will should have clear options in the GUI to do this, once they swap to the new environment.\n",
    "\n",
    "You're now ready to begin using Python!\n",
    "Create a new folder in a memorable place on your computer for these lessons, and download and extract the following two `.zip` files in this folder:\n",
    "- [python-novice-inflammation-data.zip](../data/python-novice-inflammation-data.zip)\n",
    "- [python-novice-inflammation-code.zip](../data/python-novice-inflammation-code.zip)\n",
    "\n",
    "You should have two folders `data` and `code` after extracting them.\n",
    "Naviagate into the `data` folder to begin with, and create a new Jupyter Notebook here.\n",
    "Alternatively, load up `spyder` and create a new `.py` file, and save it to this folder."
   ]
  },
  {
   "cell_type": "markdown",
   "metadata": {
    "slideshow": {
     "slide_type": "slide"
    }
   },
   "source": [
    "## Setup: Google CoLab\n",
    "\n",
    "An alternative to a local install is to use Google CoLab.\n",
    "You can find detailed instructions on setting up Python on this platform [in this document](../data/colab_instructions.pdf)."
   ]
  }
 ],
 "metadata": {
  "celltoolbar": "Slideshow",
  "kernelspec": {
   "display_name": "Python 3",
   "language": "python",
   "name": "python3"
  },
  "language_info": {
   "codemirror_mode": {
    "name": "ipython",
    "version": 3
   },
   "file_extension": ".py",
   "mimetype": "text/x-python",
   "name": "python",
   "nbconvert_exporter": "python",
   "pygments_lexer": "ipython3",
   "version": "3.7.3"
  }
 },
 "nbformat": 4,
 "nbformat_minor": 2
}

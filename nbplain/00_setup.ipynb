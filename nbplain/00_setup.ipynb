{
 "cells": [
  {
   "cell_type": "markdown",
   "metadata": {
    "slideshow": {
     "slide_type": "slide"
    }
   },
   "source": [
    "# Setting up Python"
   ]
  },
  {
   "cell_type": "markdown",
   "metadata": {},
   "source": [
    "## Information: Setup Options\n",
    "\n",
    "There are many ways to, and places that you can, setup Python (or a Python environment) that is suitable for these lessons.\n",
    "Please choose one based on the list and descriptions we provide below.\n",
    "These include:\n",
    "- <u>Via the university's JupyterHub</u>: This is a  training platform hosted by the university and used for a variety of the Research Software Skills courses on offer at Bath.  \n",
    "- <u>Via a local install</u>: Python can be installed locally onto your laptop or desktop PC - Linux users should even have Python as standard. We recommend that you install Anaconda/Conda rather than just Python, as this also comes with several useful features we describe below.\n",
    "- <u>Via Google CoLab</u>: Google also hosts an online Python service which can be accessed with a live internet connection.\n",
    "\n",
    "If you are using the local install or working in Goodle CoLab, then you'll still need to download some additional files for use in the course, which you can find at the bottom of this page."
   ]
  },
  {
   "cell_type": "markdown",
   "metadata": {},
   "source": [
    "## Setup: JupyterHub\n",
    "\n",
    "First head to this [link](https://rss.jupyterhub.bath.ac.uk/hub/login) and press the link to 'sign in with azure AD'. You should then sign in with your university email and usual university password. You should then see the following screen:\n",
    "![JupyterHub Launch Screen](../images/jupyter_hub_home_screen.JPG)\n",
    "\n",
    "Click on the file 'Welcome.ipynb' which should open in a new tab the following:\n",
    "![JupyterHub Welcome Screen](../images/jupyter_hub_welcome.JPG)\n",
    "\n",
    "In the table, follow the course link 'Intro to python'. This should open a new file in another new tab that looks like the below. Carefully follow the instructions in this file. \n",
    "![JupyterHub intro python](../images/jupyter_hub_intro_python.JPG)\n",
    "\n",
    "If you have followed this correctly and you go back to your original tab, called 'Home', and refresh this page you should see a new folder appeared called 'intro-python'.\n",
    "![JupyterHub Launch Screen](../images/jupyter_hub_home_screen_course.JPG)\n",
    "\n",
    "Click on this new folder to enter it. Now in the upper right hand corner, select 'new' and then 'python 3'. A new ipynb file will open in a new tab. In the first box, type the follwing '!unzip intro-python-data.zip -d ../data' and press 'run' as before. \n",
    "\n",
    "![JupyterHub unzip](../images/jupyter_hub_unzip.JPG)\n",
    "\n",
    "You can now add a new cell to this file using the '+' button next to the save icon (or press the keys ESC then 'b') and start the lesson.\n",
    "\n"
   ]
  },
  {
   "cell_type": "markdown",
   "metadata": {},
   "source": [
    "## Setup: Local Install\n",
    "\n",
    "You can install Python locally and follow along with these lessons from your own machine.\n",
    "We recommend you [install Anaconda](https://www.anaconda.com/distribution/) because it will come with most standard Python packages, as well as Jupyter Notebooks and Spyder (an editing IDE) installed too.\n",
    "If you are fluent in the command line/terminal/UNIX shell you can install Conda instead - this is just Anaconda but without the graphical user interface (GUI) and operates soley through the terminal.\n",
    "Naturally we recommand Anaconda unless you really don't want to use a Graphical User Interface (GUI), or you will be relying on using an environment where GUIs are disabled (like on a supercomputer).\n",
    "\n",
    "### Anaconda (GUI) - Recommended\n",
    "Once you have [installed Anaconda](https://www.anaconda.com/distribution/), launch Jupyter Notebook using the Anaconda Navigator - links to the user guide for Navigator are below:\n",
    "- [Navigator User Guide](https://docs.anaconda.com/anaconda/navigator/), to explain what you should be looking at.\n",
    "- [Installing Jupyter Notebook](https://docs.anaconda.com/anaconda/user-guide/getting-started/), to explain how to install Jupyter Notebook via Navigator if it isn't installed by default.\n",
    "Once you launch Jupyter Notebook, your web browser should open to a page that looks like this:\n",
    "![Jupyter Launch Screen](../images/jupyter_create_new.png)\n",
    "\n",
    "The screen should be displaying the contents of the folder that Jupyter is running from, make sure that you take note of where this is, as you will need to save the files below to this folder.\n",
    "The screenshot above for example is the directory from which we use Jupyter Notebooks to produce these webpages, so it includes several other files and folders.\n",
    "\n",
    "Create a new notebook using the option `New` in the right-corner (be sure to select `Python 3` or `Python 3.6` if you have the option), and give it a memorable name.\n",
    "This will open another page which looks like the screenshot below, and you're ready to start using Python once you download the files below.\n",
    "![Empty Jupyter Notebook](../images/jupyter_new_notebook.png)\n",
    "\n",
    "### Conda (Command Line)\n",
    "If you don't want to install the GUI that comes with Anaconda, you can instead just [install Conda](https://docs.conda.io/projects/conda/en/latest/user-guide/install/index.html) and work from the command line.\n",
    "Once installed, open a terminal and create a new python environment using Conda - the [full instructions for managing environments using Conda are here](https://docs.conda.io/projects/conda/en/latest/user-guide/tasks/manage-environments.html), but all you need to do is run the following commands in the terminal:\n",
    "```bash\n",
    "conda create --name PythonInduction python=3.6\n",
    "conda activate PythonInduction\n",
    "conda install math sys numpy\n",
    "conda install -c conda-forge notebook\n",
    "```\n",
    "Agree to proceed when prompted by the command line, and this should create and activate a Python environment `PythonInduction` for you to use.\n",
    "You may also want to run `conda install scipy` and `conda install pandas` if you plan to use Python for your research.\n",
    "If your shell isn't configured properly, `conda activate PythonInduction` may not work, in which case use `source activate PythonInduction` instead.\n",
    "After the installs are complete, you should be able to start Jupyter Notebook by running\n",
    "```bash\n",
    "jupyter notebook\n",
    "```\n",
    "in the command line, and can follow the Anaconda instructions above for creating a new notebook.\n"
   ]
  },
  {
   "cell_type": "markdown",
   "metadata": {},
   "source": [
    "## Setup: Download Files\n",
    "\n",
    "Download and extract the following two `.zip` files in the same folder as your notebook, which you created in the steps above:\n",
    "- [python-novice-inflammation-data.zip](../data/python-novice-inflammation-data.zip)\n",
    "- [python-novice-inflammation-code.zip](../data/python-novice-inflammation-code.zip)\n",
    "\n",
    "You should have two folders `data` and `code` after extracting them.\n",
    "Naviagate into the `data` folder to begin with, and create a new Jupyter Notebook here.\n",
    "Alternatively, load up `spyder` and create a new `.py` file, and save it to this folder."
   ]
  },
  {
   "cell_type": "markdown",
   "metadata": {
    "slideshow": {
     "slide_type": "slide"
    }
   },
   "source": [
    "## Setup: (Alternative) Google CoLab\n",
    "\n",
    "An alternative to a local install is to use Google CoLab.\n",
    "You can find detailed instructions on setting up Python on this platform [in this document](../data/colab_instructions.pdf)."
   ]
  }
 ],
 "metadata": {
  "celltoolbar": "Slideshow",
  "kernelspec": {
   "display_name": "Python 3",
   "language": "python",
   "name": "python3"
  },
  "language_info": {
   "codemirror_mode": {
    "name": "ipython",
    "version": 3
   },
   "file_extension": ".py",
   "mimetype": "text/x-python",
   "name": "python",
   "nbconvert_exporter": "python",
   "pygments_lexer": "ipython3",
   "version": "3.7.3"
  }
 },
 "nbformat": 4,
 "nbformat_minor": 4
}

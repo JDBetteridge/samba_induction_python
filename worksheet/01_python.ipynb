{
 "cells": [
  {
   "cell_type": "markdown",
   "metadata": {
    "collapsed": true
   },
   "source": [
    "# Images as Matrices in Python\n",
    "\n",
    "<table class=\"image\">\n",
    "    <caption align=\"bottom\">This isn't even the worst pun we could have included...</caption>\n",
    "    <tr><td><img src=\"../images/Teaching_Python_Original.png\" alt=\"Teaching_Python: Sorry, we couldn't resist.\"/></td></tr>\n",
    "</table>"
   ]
  },
  {
   "cell_type": "markdown",
   "metadata": {},
   "source": [
    "## Setup\n",
    "\n",
    "Before you begin these tasks, make sure you have done the following:\n",
    "- Installed Python 3.6 or later (if you're reading this in Jupyter Notebook, this is taken care of!)\n",
    "- Have the Python modules `numpy`, `scipy` and `matplotlib` installed\n",
    "- Have downloaded the image `Teaching_Python.png`, which looks like:\n",
    "    ![](../images/Teaching_Python.png)\n",
    "    and know where it is stored (you can rightclick > Save Image As...). (It will be convenient for you to have the image stored in the same directory as this workbook, so that you don't need relative paths - the notebook assumes you have done this)."
   ]
  },
  {
   "cell_type": "markdown",
   "metadata": {},
   "source": [
    "## Background\n",
    "\n",
    "Image dimensions are measured in pixels - the image above has dimensions $640\\times480$ pixels (width-height).\n",
    "Each pixel has an associated **Red-Green-Blue (RBG)** triple associated with it, which stores the relative shades of red, green, and blue at that pixel - giving the image color.\n",
    "(By contrast, a greyscale image only has one value per pixel which quantifies how dark that pixel is).\n",
    "As such, any $w\\times h$ RGB image can be thought of as a $h\\times w\\times 3$ image-matrix or array of floating-point numbers, which allows us to manipulate images on a computer.\n",
    "Note that the order of $w$ and $h$ is changed as row-index is stored first in a 2D-array on a computer.\n",
    "\n",
    "### The SVD\n",
    "\n",
    "The **Singular Value Decomposition (SVD)** of a matrix is a powerful theoretical tool and to a more modest degree, a useful computational tool too.\n",
    "For the purposes of these exercises we will introduce the SVD soley for use in image manipulation, however be aware that you will likely meet this (if you haven't already) at some point in the future and it has much more general interpretations.\n",
    "\n",
    "Let $A\\in\\mathbb{R}^{m\\times n}$ (a real $m\\times n$ matrix), and let $K=\\min\\{n,m\\}$. Then there exist orthogonal matrices $U\\in\\mathbb{R}^{m\\times m}, V\\in\\mathbb{R}^{n\\times n}$ and numbers $\\sigma_{i}\\in\\mathbb{R}$ for each $i\\in\\{1,...,K\\}$ ordered such that $\\vert\\sigma_{i}\\vert\\ge\\vert\\sigma_{i+1}\\vert$ such that $A$ has the decomposition\n",
    "$$\n",
    "\\begin{align}\n",
    "    A &= U\\Sigma V^{\\top} \\\\\n",
    "    \\Sigma &= \\mathrm{diag}\\left(\\sigma_{1}, ... , \\sigma_{k} \\right) \\in\\mathbb{R}^{m\\times n}.\n",
    "\\end{align}\n",
    "$$\n",
    "We call $U$ the matrix of left-singular vectors and $V$ the matrix of right-sigular vectors (these vectors span the image space and domain space of $A$, respectively) and the $\\sigma_{i}$ are the singular values.\n",
    "Note that $\\Sigma$ is not necessarily square - it can be \"*tall*\" (has extra rows of zeros) or \"*long*\" (extra columns of zeros).\n",
    "This is formally a theorem and has a proof which we are not going to detail, because it's long and would require some theoretical setup which we thought we'd spare you from.\n",
    "\n",
    "Some interpretation in the context of image-matrices:\n",
    "- The larger singular values can be thought of as defining \"large-scale\" features, whereas the smaller singular values define sharp features in the image.\n",
    "- For an image array, we have a SVD for each of the fixed-RGB slices through the array. I.e: We have a \"red SVD\", \"green SVD\" and \"blue SVD\" for each image.\n",
    "- Due to the existance of machine precision (the smallest positive number that can be stored on a computer), small singular values may fall near or below this value and a computer cannot reliably work with these values. This is a big problem when trying to invert large systems and is central to the field of *Inverse Problems*.\n",
    "- If we know the SVD, we know how to construct the image. We can use the SVD to change the image for better or worse if we want."
   ]
  },
  {
   "cell_type": "markdown",
   "metadata": {},
   "source": [
    "## Information: Exercises\n",
    "\n",
    "Use the empty code blocks below each task to type your solution.\n",
    "You can execute the current code block using the keyboard shortcut `Ctrl+Enter`, or using the toolbar at the top of the page.\n",
    "\n",
    "In addition, please run the additional code block below to setup the Notebook. These are the only additional modules you will need to complete these exercises."
   ]
  },
  {
   "cell_type": "code",
   "execution_count": 1,
   "metadata": {},
   "outputs": [],
   "source": [
    "%matplotlib inline \n",
    "#This means that matplotlib will display images in this window, rather than in a new one.\n",
    "\n",
    "import numpy as np #To use functions or constants that are in the NumPy module, type np.function_name. EG: np.pi is pi\n",
    "import numpy.random as nprd #This imports random number generation functions\n",
    "import scipy as sp #SciPy has lots of useful numerical methods, so we don't have to write them\n",
    "import scipy.linalg as spla #This imports the sub-module containing linear algebra methods\n",
    "import matplotlib.pyplot as plt #This will let us display images nicely\n",
    "\n",
    "colours = ['red', 'green', 'blue'] #This is just so that we can label things conveniently"
   ]
  },
  {
   "cell_type": "markdown",
   "metadata": {},
   "source": [
    "## Information: 1: Setup\n",
    "\n",
    "Read in the image `Teaching_Python` using `matplotlib`'s `imread` function, calling the output `pythonPic`.\n",
    "This is a $64\\times64\\times3$ image-array.\n",
    "Use `matplotlib.pyplot.imshow` and then `matplotlib.pyplot.show` to visualise the image.\n",
    "\n",
    "**NOTE**: Read the above codeblock so that you know which names the various modules have been imported under!\n",
    "\n",
    "Also store the dimensions in an array `dims` using the `np.shape` command.\n",
    "\n",
    "`Teaching_Python` should look like the following image, possibly rescaled by `matplotlib`:\n",
    "<table class=\"image\">\n",
    "    <!--<caption align=\"bottom\">The image Teaching_Python.png. As you can tell, we have been very inspired in our choice of image.</caption>-->\n",
    "    <tr><td><img src=\"../images/Teaching_Python.png\" alt=\"Teaching_Python\"/></td></tr>\n",
    "</table>"
   ]
  },
  {
   "cell_type": "code",
   "execution_count": 3,
   "metadata": {
    "scrolled": false
   },
   "outputs": [
    {
     "data": {
      "image/png": "[encoded data removed]",
      "text/plain": [
       "<Figure size 432x288 with 1 Axes>"
      ]
     },
     "metadata": {
      "needs_background": "light"
     },
     "output_type": "display_data"
    }
   ],
   "source": [
    "pythonPic = plt.imread('../images/Teaching_Python.png') #64x64x3 array\n",
    "plt.imshow(pythonPic)\n",
    "plt.show()\n",
    "\n",
    "dims = np.shape(pythonPic)"
   ]
  },
  {
   "cell_type": "markdown",
   "metadata": {},
   "source": [
    "## Information: 2: Playing with Colours\n",
    "\n",
    "Now that the image is imported, investigate the effect of removing one of the primary (RGB) colours from the image.\n",
    "As `pythonPic` is just an array, this amounts to creating a copy of the image and setting all the pixel-values for one RGB colour to be $0$. \n",
    "When you plot the image, make sure it has a title which details which manipulation has taken place (`plt.title` is the function you want, and `colours` defined above may be useful).\n",
    "\n",
    "Having done this, manipulate `Teaching_Python` so that:\n",
    "- The top-left quarter of the image is unchanged\n",
    "- The top-right quarter of the image has red removed\n",
    "- The bottom-left quarter of the image has green removed\n",
    "- The bottom-right quarter of the image has blue removed"
   ]
  },
  {
   "cell_type": "code",
   "execution_count": null,
   "metadata": {
    "scrolled": true
   },
   "outputs": [],
   "source": [
    "# Remove colours\n",
    "for i in range(3):\n",
    "    pythonPicCopy = np.copy(pythonPic) #Create a copy to avoid binding issues with changing array values\n",
    "    pythonPicCopy[:,:,i] = 0.0 #Set this colour to be zero (not present) at every pixel\n",
    "    #Fancy titles\n",
    "    titStr = colours[i] + ' set to 0'\n",
    "    plt.title(titStr)\n",
    "    plt.imshow(pythonPicCopy)\n",
    "    plt.show()\n",
    "    \n",
    "# Now do it by quarters...\n",
    "half_height = dims[0]//2\n",
    "half_width = dims[1]//2\n",
    "pythonPicCopy = np.copy(pythonPic)\n",
    "# top-right, no red\n",
    "pythonPicCopy[:half_height, half_width:, 0] = 0.0\n",
    "# bottom-left, no green\n",
    "pythonPicCopy[half_height:, :half_width, 1] = 0.0\n",
    "# bottom-right, no blue\n",
    "pythonPicCopy[half_height:, half_width:, 2] = 0.0\n",
    "\n",
    "plt.title('Quartered Image')\n",
    "plt.imshow(pythonPicCopy)\n",
    "plt.show()"
   ]
  },
  {
   "cell_type": "markdown",
   "metadata": {},
   "source": [
    "## Information: 3: (Optional) Colours are Fun\n",
    "\n",
    "Repeat the previous task, but this time removing *all other* colours, rather than only a single one."
   ]
  },
  {
   "cell_type": "code",
   "execution_count": null,
   "metadata": {
    "scrolled": true
   },
   "outputs": [],
   "source": [
    "# Remove colours\n",
    "for i in range(3):\n",
    "    pythonPicCopy = np.copy(pythonPic) #Create a copy to avoid binding issues with changing array values\n",
    "    pythonPicCopy[:,:,0:i] = 0.0 \n",
    "    pythonPicCopy[:,:,i+1:3] = 0.0 #Set all other colours to be zero\n",
    "    #Fancy titles\n",
    "    titStr = colours[i] + ' only'\n",
    "    plt.title(titStr)\n",
    "    plt.imshow(pythonPicCopy)\n",
    "    plt.show()\n",
    "\n",
    "# Now do it by quarters...\n",
    "pythonPicCopy = np.copy(pythonPic)\n",
    "dims = pythonPicCopy.shape #This gives us the array dimensions of pythonPicCopy\n",
    "# top-right, all red\n",
    "pythonPicCopy[:half_height, half_width:, 1:3] = 0.0\n",
    "# bottom-left, all green\n",
    "pythonPicCopy[half_height:, :half_width, 0:3:2] = 0.0\n",
    "# bottom-right, all blue\n",
    "pythonPicCopy[half_height:, half_width:, 0:2] = 0.0\n",
    "\n",
    "plt.title('Quartered Image')\n",
    "plt.imshow(pythonPicCopy)\n",
    "plt.show()"
   ]
  },
  {
   "cell_type": "markdown",
   "metadata": {},
   "source": [
    "## Information: 4: The SVD and a Low-Rank Approximation\n",
    "\n",
    "Write a function `LowRank(A, k)` which takes in a matrix `A` and integer `k`.\n",
    "The function should return the *low-rank approximation* to the matrix `A` by truncating it's SVD; IE `LowRank` should calculate the SVD of `A`, then construct the matrix $A_{k}$:\n",
    "$$\\begin{align}\n",
    "    \\text{Set }\\sigma^{\\prime}_{i}=0 \\text{ for } i>k, &\\quad \\Sigma_{k} = \\mathrm{diag}\\left(\\sigma_{1},...,\\sigma_{k},\\sigma_{k+1}^{\\prime},...,\\sigma_{k}^{\\prime}\\right) \\\\\n",
    "    A_{k} := U\\Sigma_{k}V\\in\\mathbb{R}^{m\\times n}\n",
    "\\end{align}$$\n",
    "\n",
    "Compute the $k=2,5,7,10$ and $k=20$ low-rank approximation to `pythonPic`, displaying each one. (Display `pythonPic` too, so that you can compare them.)\n",
    "\n",
    "What are the reasons for wanting a low-rank approximation to an image rather than the full image?"
   ]
  },
  {
   "cell_type": "code",
   "execution_count": null,
   "metadata": {
    "scrolled": true
   },
   "outputs": [],
   "source": [
    "def LowRank(A, k):\n",
    "    m, n = A.shape\n",
    "    U, S, VT = spla.svd(A)\n",
    "    Sk = np.zeros([m, n])\n",
    "\n",
    "    Sk[np.diag_indices(k)] = S[0:k]\n",
    "    Ak = U@Sk@VT\n",
    "    return Ak\n",
    "\n",
    "plt.title('Original Image')\n",
    "plt.imshow(pythonPic)\n",
    "plt.show()\n",
    "\n",
    "# Let's reconstruct the image with a low rank approximation\n",
    "# Low rank (Try changing)\n",
    "for k in [2,5,7,10,20]:\n",
    "    reconImage = np.zeros(dims, dtype='float') #We still have dims from before, which we can use\n",
    "    for i in range(3):\n",
    "        reconImage[:,:,i] = LowRank(pythonPic[:,:,i], k)\n",
    "    plt.title('Low-Rank Approximation')\n",
    "    plt.imshow(reconImage)\n",
    "    plt.show()"
   ]
  },
  {
   "cell_type": "markdown",
   "metadata": {},
   "source": [
    "## Image Noise Reduction (Greyscale)\n",
    "\n",
    "### Converting to Greyscale\n",
    "\n",
    "We are now going to look at one of the uses for the SVD and low-rank approximations - filtering out noise from an image. Noise can arise in an image (or indeed, any data type) a number of ways, errors in communication, imprecisions when first storing the information, etc.\n",
    "\n",
    "To prevent things from getting too complicated we are going to use a greyscale image to do this, so please run the following codeblock.\n",
    "This codeblock will provide you with:\n",
    "- A new image, `monoPic`, which is a greyscale version of `pythonPic`\n",
    "- A function, `PlotGreyscale`, which you may use to plot the greyscale images properly. Calling `PlotGreyscale(image)` will just plot the image array `image`; if you give a second string argument such as by `PlotGreyscale(image, 'Snazzy title')`, your plot will also have the title '*Snazzy Title*'. An example call is given in the codeblock."
   ]
  },
  {
   "cell_type": "code",
   "execution_count": null,
   "metadata": {},
   "outputs": [],
   "source": [
    "def RGB2Gray(rgb):\n",
    "\n",
    "    r, g, b = rgb[:,:,0], rgb[:,:,1], rgb[:,:,2]\n",
    "    grey = 0.2989 * r + 0.5870 * g + 0.1140 * b\n",
    "\n",
    "    return grey\n",
    "\n",
    "def PlotGreyscale(img, titleStr=''):\n",
    "    '''A function so that greyscale images plot correctly.\n",
    "    Passing a second argument makes a title for the image.\n",
    "    '''\n",
    "    \n",
    "    plt.title(titleStr)\n",
    "    plt.imshow(img, cmap=plt.get_cmap('gray')) #Americanism...\n",
    "    plt.show()\n",
    "    \n",
    "    return\n",
    "\n",
    "monoPic = RGB2Gray(pythonPic)\n",
    "PlotGreyscale(monoPic, 'Greyscale Picture')"
   ]
  },
  {
   "cell_type": "markdown",
   "metadata": {},
   "source": [
    "## Information: 5: Image Noise Generation\n",
    "\n",
    "Rather than provide you with a deliberately bad image that we've added noise to earlier, we are going to add our own noise to `pythonPic` and then attempt to remove or reduce the noise to recover the original.\n",
    "Adding noise to the greyscale image is as simple as adding IID random numbers to every pixel, IE every pixel in the image has a random sample from $\\mathcal{N}\\left(0, \\xi^{2}\\right)$ added to it.\n",
    "Being the standard deviation of the random numbers, $\\xi$ can be thought of as the \"*noise level*\" - the larger $\\xi$ results in a noisier image.\n",
    "\n",
    "Write a function `AddNoise(img, xi)` which performs the task described above. \n",
    "The input `img` is a greyscale image and `xi` is the standard deviation or noise level to be applied.\n",
    "`AddNoise` should return the noisey image.\n",
    "\n",
    "**TIP**: The function `numpy.random.normal` may help. We have also already imported `numpy.random` as `nprd`."
   ]
  },
  {
   "cell_type": "code",
   "execution_count": null,
   "metadata": {},
   "outputs": [],
   "source": [
    "def AddNoise(img, xi):\n",
    "    #Add noise level xi to the image img. Clip values that fall outside acceptable range?\n",
    "    \n",
    "    dims = img.shape #get image dimensions\n",
    "    noiseyImg = img + nprd.normal(0, xi, dims) #add noise to every pixel; mean 0, st.dev xi.\n",
    "    \n",
    "    return noiseyImg"
   ]
  },
  {
   "cell_type": "markdown",
   "metadata": {},
   "source": [
    "## Information: 6: Noise Reduction\n",
    "\n",
    "By taking a low-rank SVD approximation to the image, we can remove some of the noisey features that we introduced earlier.\n",
    "Provided the noise level isn't so high as to destroy *all* the features of the original image; the larger features of the image should still be recognisable.\n",
    "As information about large features of an image is *encoded* in the largest singular values and vectors, a low-rank approximation to a noisey image should weed out some of the (small) features introduced by the noise.\n",
    "\n",
    "Take $\\xi=0.1$, and use `AddNoise` to add this level of noise to `monoPic`, calling the resulting noisey image `fuzzyPic`.\n",
    "Starting at $k=5$ and increasing in fives up to (and including) $k=25$:\n",
    " - Reconstruct the image in the $k$-low-rank approximations (calling it `resolvedPic`)\n",
    " - Store the error in the $L^{2}$ norm of the low-rank image and the original image, in an array called `errNorms`. That is, obtain the quantity $\\vert\\vert$ `monoPic`-`resolvedPic` $\\vert\\vert_{2}$.\n",
    "\n",
    "**TIP**: `LowRank` from earlier may be useful, as well as `scipy.linalg.norm`.\n",
    "\n",
    "Create a plot of $k$ against `errNorms`.\n",
    "What do you notice about the change in image quality as $k$ increases, and around which value of $k$ is the image at it's \"*best quality*\"?\n",
    "\n",
    "#### (Optional)\n",
    "\n",
    "Experiment with different noise levels, and the effectiveness of this method of noise reduction.\n",
    "How do the conclusions of the previous task depend on $\\xi$?\n",
    "\n",
    "**NOTE**: $\\xi\\geq1$ will result in this process breaking down, but feel free to experiment with it nonetheless!"
   ]
  },
  {
   "cell_type": "code",
   "execution_count": null,
   "metadata": {
    "scrolled": true
   },
   "outputs": [],
   "source": [
    "xi = 0.1\n",
    "\n",
    "fuzzyPic = AddNoise(monoPic, xi)\n",
    "PlotGreyscale(fuzzyPic, 'fuzzyPic')\n",
    "\n",
    "kVals = np.arange(5,30,5)\n",
    "errNorms = []\n",
    "#Use LowRank from before\n",
    "for k in kVals:\n",
    "    resolvedPic = LowRank(fuzzyPic, k)\n",
    "    PlotGreyscale(resolvedPic, 'resolvedPic, k:'+str(k))\n",
    "    errNorms.append(spla.norm(resolvedPic - monoPic, 2))\n",
    "\n",
    "plt.plot(kVals, errNorms, 'x-', linewidth=2, markersize=20)\n",
    "plt.title('Error Plot')\n",
    "plt.xlabel('Number of singular values')\n",
    "plt.ylabel('Error in $L^2$ norm')\n",
    "plt.show()"
   ]
  }
 ],
 "metadata": {
  "kernelspec": {
   "display_name": "Python 3",
   "language": "python",
   "name": "python3"
  },
  "language_info": {
   "codemirror_mode": {
    "name": "ipython",
    "version": 3
   },
   "file_extension": ".py",
   "mimetype": "text/x-python",
   "name": "python",
   "nbconvert_exporter": "python",
   "pygments_lexer": "ipython3",
   "version": "3.7.3"
  }
 },
 "nbformat": 4,
 "nbformat_minor": 2
}

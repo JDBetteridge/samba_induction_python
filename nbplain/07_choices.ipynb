{
 "cells": [
  {
   "cell_type": "markdown",
   "metadata": {
    "slideshow": {
     "slide_type": "slide"
    }
   },
   "source": [
    "# Making Choices"
   ]
  },
  {
   "cell_type": "markdown",
   "metadata": {
    "slideshow": {
     "slide_type": "slide"
    }
   },
   "source": [
    "## Overview:\n",
    "- **Teaching:** 10 min\n",
    "- **Exercises:** 10 min\n",
    "\n",
    "**Questions**\n",
    "- How can programs do different things based on values?\n",
    "\n",
    "**Objectives**\n",
    "- Understand the structure of conditional statements\n",
    "- Understand the flow of `if`, `elif` and `else` branches\n",
    "- Correctly evaulate logical expressions containing `and` and/or `or`"
   ]
  },
  {
   "cell_type": "markdown",
   "metadata": {
    "slideshow": {
     "slide_type": "slide"
    }
   },
   "source": [
    "## `If` this, do that...\n",
    "\n",
    "In our last episode we looked at loops, one of the fundamental building blocks of programming, because they allow us repeat tasks many times.\n",
    "We now look at on of the other main building blocks, conditional statements, which allow us to make choices.\n",
    "\n",
    "In Python we can make our programs take different actions, depending on certain conditions by using an `if` statement:"
   ]
  },
  {
   "cell_type": "code",
   "execution_count": 1,
   "metadata": {
    "slideshow": {
     "slide_type": "subslide"
    }
   },
   "outputs": [
    {
     "name": "stdout",
     "output_type": "stream",
     "text": [
      "37 is smaller than 100\n",
      "Done\n"
     ]
    }
   ],
   "source": [
    "num = 37\n",
    "if num > 100:\n",
    "    print(num, \"is bigger than 100\")\n",
    "else: \n",
    "    print(num, \"is smaller than 100\")\n",
    "print(\"Done\")"
   ]
  },
  {
   "cell_type": "markdown",
   "metadata": {
    "slideshow": {
     "slide_type": "slide"
    }
   },
   "source": [
    "The following decision diagram helps to understand what is happening:\n",
    "\n",
    "![Decision Flow Diagram](../images/python-flowchart-conditional.png)\n",
    "\n",
    "We enter the section of code at the top and arrive at the diamond, where the program checks whether the value in variable `num` is greater than 100.\n",
    "If the condition is `True` the program takes the left branch, and if the condition is `False` it takes the right branch.\n",
    "Once the conditional is finished the two branches come back together.\n",
    "\n",
    "The `else` branch can be omitted, if we don't want to do something when the condition isn't met:"
   ]
  },
  {
   "cell_type": "code",
   "execution_count": 2,
   "metadata": {
    "slideshow": {
     "slide_type": "slide"
    }
   },
   "outputs": [
    {
     "name": "stdout",
     "output_type": "stream",
     "text": [
      "163 is bigger than 100\n",
      "Done\n"
     ]
    }
   ],
   "source": [
    "num = 163\n",
    "if num > 100:\n",
    "    print(num, \"is bigger than 100\")\n",
    "print(\"Done\")"
   ]
  },
  {
   "cell_type": "markdown",
   "metadata": {
    "slideshow": {
     "slide_type": "subslide"
    }
   },
   "source": [
    "Or we can have additional `elif` branches.\n",
    "`elif` is Python's way of saying `else if` - you can have another condition checked if the first one failed."
   ]
  },
  {
   "cell_type": "code",
   "execution_count": 3,
   "metadata": {
    "slideshow": {
     "slide_type": "subslide"
    }
   },
   "outputs": [
    {
     "name": "stdout",
     "output_type": "stream",
     "text": [
      "42 is the Answer to the Ultimate Question of Life, the Universe and Everything\n",
      "Done\n"
     ]
    }
   ],
   "source": [
    "num = 42\n",
    "if num > 100:\n",
    "    print(num, \"is bigger than 100\")\n",
    "elif num == 42:\n",
    "    print(num, \"is the Answer to the Ultimate Question of Life, the Universe and Everything\")    \n",
    "else: \n",
    "    print(num, \"is smaller than 100\")\n",
    "print(\"Done\")"
   ]
  },
  {
   "cell_type": "markdown",
   "metadata": {
    "slideshow": {
     "slide_type": "slide"
    }
   },
   "source": [
    "## Information: The structure of conditionals\n",
    "\n",
    "Let's look at this in more detail:\n",
    "\n",
    "1. The structure of a conditional statement begins with an `if` statement.\n",
    "2. Then we have the **condition** which typically makes a comparison between two values, in our example, the value stored in `num` and the value `100`\n",
    "3. The condition is that the first value should be greater, `>`, than the second value.\n",
    "4. If the condition is `True` we execute the **body** that follows.\n",
    "```python\n",
    "if conditon1:\n",
    "    body1\n",
    "elif condition2:\n",
    "    body2\n",
    "elif condition3:\n",
    "    body3\n",
    "else:\n",
    "    body4\n",
    "```\n",
    "\n",
    "An `elif` statement is essentially the same as an `if` statement except that it can only follow an `if`, or another `elif`.\n",
    "It has a separate condition and also causes the **body** following it to be executed if the condition is `True`.\n",
    "An `else` statement allows us to execute a further **body** of code if none of the preceeding conditions are `True`.\n",
    "\n",
    "In Python, similar to what we saw in loops, the statements `if`, `elif` and `else`, must be followed by a colon ':' and the **body** of code following them must be indented."
   ]
  },
  {
   "cell_type": "markdown",
   "metadata": {
    "slideshow": {
     "slide_type": "slide"
    }
   },
   "source": [
    "## Information: True and False\n",
    "`True` and `False` are special words in Python called booleans (or `bool`s), which represent truth values.\n",
    "A statement such as `1 < 0` returns the value `False`, while `-1 < 0` returns the value `True`."
   ]
  },
  {
   "cell_type": "markdown",
   "metadata": {
    "slideshow": {
     "slide_type": "subslide"
    }
   },
   "source": [
    "## Information: Conditional Operators:\n",
    "\n",
    "In Python we can use the following conditional operators:\n",
    "\n",
    "| Operator | Operation |\n",
    "|-|-|\n",
    "| > | Greater than |\n",
    "|>= | Greater than or equal to|\n",
    "| == | Equal to |\n",
    "| <= | Less than or equal to |\n",
    "| < | Less than |\n",
    "\n",
    "Note that the operator for `is equal to` is **two** equal signs `==`."
   ]
  },
  {
   "cell_type": "markdown",
   "metadata": {
    "slideshow": {
     "slide_type": "slide"
    }
   },
   "source": [
    "## Boolean Operators\n",
    "\n",
    "We can combine conditional statements using the Boolean operators, `and` and `or`.\n",
    "If we use these it is useful to put the conditional components in parentheses (brackets) so that our intention is clear:"
   ]
  },
  {
   "cell_type": "code",
   "execution_count": 4,
   "metadata": {
    "slideshow": {
     "slide_type": "subslide"
    }
   },
   "outputs": [
    {
     "name": "stdout",
     "output_type": "stream",
     "text": [
      "at least one part is false\n"
     ]
    }
   ],
   "source": [
    "if (1 > 0) and (-1 > 0):\n",
    "    print('both parts are true')\n",
    "else:\n",
    "    print('at least one part is false')"
   ]
  },
  {
   "cell_type": "code",
   "execution_count": 5,
   "metadata": {
    "slideshow": {
     "slide_type": "subslide"
    }
   },
   "outputs": [
    {
     "name": "stdout",
     "output_type": "stream",
     "text": [
      "at least one test is true\n"
     ]
    }
   ],
   "source": [
    "if (1 < 0) or (-1 < 0):\n",
    "    print('at least one test is true')"
   ]
  },
  {
   "cell_type": "markdown",
   "metadata": {
    "slideshow": {
     "slide_type": "slide"
    }
   },
   "source": [
    "We can also use the `not` operator to invert the condition:"
   ]
  },
  {
   "cell_type": "code",
   "execution_count": 6,
   "metadata": {
    "slideshow": {
     "slide_type": "subslide"
    }
   },
   "outputs": [
    {
     "name": "stdout",
     "output_type": "stream",
     "text": [
      "false that not (both parts are true)\n"
     ]
    }
   ],
   "source": [
    "if not( (1 > 0) and (-1 < 0) ):\n",
    "    print('not (both parts are true)')\n",
    "else:\n",
    "    print('false that not (both parts are true)')"
   ]
  },
  {
   "cell_type": "markdown",
   "metadata": {
    "slideshow": {
     "slide_type": "slide"
    }
   },
   "source": [
    "## Exercise: How many paths?\n",
    "\n",
    "Consider this code:\n",
    "```python\n",
    "if 4 > 4:\n",
    "    print('A')\n",
    "elif 4 == 4:\n",
    "    print('B')\n",
    "elif 4 <= 4:\n",
    "    print('C')\n",
    "```\n",
    "Which of the following would be printed if you were to run this code? Why did you pick this answer?\n",
    "\n",
    "1. A\n",
    "2. B\n",
    "3. C\n",
    "4. B and C\n",
    "\n",
    "[Solution]()"
   ]
  },
  {
   "cell_type": "markdown",
   "metadata": {
    "slideshow": {
     "slide_type": "slide"
    }
   },
   "source": [
    "## Solution+: How many paths?\n",
    "\n",
    "The answer is B:"
   ]
  },
  {
   "cell_type": "code",
   "execution_count": 7,
   "metadata": {},
   "outputs": [
    {
     "name": "stdout",
     "output_type": "stream",
     "text": [
      "B\n"
     ]
    }
   ],
   "source": [
    "if 4 > 4:\n",
    "    print('A')\n",
    "elif 4 == 4:\n",
    "    print('B')\n",
    "elif 4 <= 4:\n",
    "    print('C')"
   ]
  },
  {
   "cell_type": "markdown",
   "metadata": {
    "slideshow": {
     "slide_type": "slide"
    }
   },
   "source": [
    "The condition `4 > 4` evaluates to `False`, while the conditions `4 == 4` and `4 <= 4` both evaluate to `True`.\n",
    "However because in our code the program would meet `elif 4 == 4` first, it would execute the **body** contained in that branch.\n",
    "A program can only follow **one** branch in a conditional statement.\n",
    "\n",
    ":Solution+"
   ]
  },
  {
   "cell_type": "markdown",
   "metadata": {
    "slideshow": {
     "slide_type": "slide"
    }
   },
   "source": [
    "## Exercise: Close Enough\n",
    "\n",
    "Write some conditions that print `True` if the (`float`) variable `a` is within 10% of the (`float`) variable `b`, and `False` otherwise.\n",
    "Compare your implementation with your neighbour’s, do you get the same answer for different pairs of numbers?\n",
    "\n",
    "Hint: Use the function `abs(value)` to obtain the absolute of a value.\n",
    "\n",
    "[Solution]()"
   ]
  },
  {
   "cell_type": "markdown",
   "metadata": {
    "slideshow": {
     "slide_type": "slide"
    }
   },
   "source": [
    "## Solution+: Close enough\n",
    "\n",
    "A conditional statement that will perform this task is as follows:"
   ]
  },
  {
   "cell_type": "code",
   "execution_count": 8,
   "metadata": {
    "slideshow": {
     "slide_type": "slide"
    }
   },
   "outputs": [
    {
     "name": "stdout",
     "output_type": "stream",
     "text": [
      "True\n"
     ]
    }
   ],
   "source": [
    "a = 5.0\n",
    "b = 5.1\n",
    "\n",
    "if abs(b - a) < 0.1 * abs(a): \n",
    "#abs(a-b) is the absolute difference of a and b, and we want this to be less than 10% of a, \n",
    "#which we can obtain via abs(a)/10, or 0.1*abs(a)\n",
    "    print('True')\n",
    "else:\n",
    "    print('False')"
   ]
  },
  {
   "cell_type": "markdown",
   "metadata": {
    "slideshow": {
     "slide_type": "slide"
    }
   },
   "source": [
    "If you may have a different order of `a` and `b` from you neighbour then you may see different results with certain pairs of values.\n",
    "\n",
    ":Solution+"
   ]
  },
  {
   "cell_type": "markdown",
   "metadata": {
    "slideshow": {
     "slide_type": "slide"
    }
   },
   "source": [
    "## Exercise: Counting Vowels\n",
    "1. Write a loop that counts the number of vowels in a character string.\n",
    "2. Test it on a few individual words and full sentences.\n",
    "3. Once you are done, compare your solution to your neighbour’s. Did you make the same decisions about how to handle the letter ‘y’ (which some people think is a vowel, and some do not)?\n",
    "\n",
    "Some useful code: \n",
    "```python\n",
    "for character in my_string:\n",
    "```\n",
    "will begin a `for` loop over each character in the string `my_string` in turn. \n",
    "```python\n",
    "if test_ch in my_string:\n",
    "```\n",
    "this is `True` if the value in `test_ch` is a character in the string `my_string`.\n",
    "\n",
    "[Solution]()"
   ]
  },
  {
   "cell_type": "markdown",
   "metadata": {
    "slideshow": {
     "slide_type": "-"
    }
   },
   "source": [
    "## Solution+: Counting Vowels\n",
    "\n",
    "The plan is for us to store all the vowels in one string `vowels`.\n",
    "Then when we are given another string `sentence`, we loop over the characters in `sentence` to see if they are in `vowels`, and thus are a vowel."
   ]
  },
  {
   "cell_type": "code",
   "execution_count": 9,
   "metadata": {
    "slideshow": {
     "slide_type": "-"
    }
   },
   "outputs": [
    {
     "name": "stdout",
     "output_type": "stream",
     "text": [
      "The number of vowels in this string is 6\n"
     ]
    }
   ],
   "source": [
    "vowels = 'aeiouAEIOU'\n",
    "sentence = 'Mary had a little lamb.'\n",
    "count = 0 #this is how many vowels we found\n",
    "for character in sentence:\n",
    "    if character in vowels:\n",
    "        #if we get to here, this character of sentence is also in vowels, so it's a vowel\n",
    "        count += 1\n",
    "    #we don't need an else, because we don't need to count the number of non-vowels\n",
    "\n",
    "print(\"The number of vowels in this string is \" + str(count))"
   ]
  },
  {
   "cell_type": "markdown",
   "metadata": {},
   "source": [
    ":Solution+"
   ]
  },
  {
   "cell_type": "markdown",
   "metadata": {
    "slideshow": {
     "slide_type": "-"
    }
   },
   "source": [
    "## Exercise: Nothing is true, everything is permitted\n",
    "\n",
    "`True` and `False` booleans are not the only values in Python that can be evaluated true and false.\n",
    "In fact, any value can be used in an `if` or `elif` - see the code below.\n",
    "```python\n",
    "if '':\n",
    "    print('empty string is true')\n",
    "if 'word':\n",
    "    print('word is true')\n",
    "if []:\n",
    "    print('empty list is true')\n",
    "if [1, 2, 3]:\n",
    "    print('non-empty list is true')\n",
    "if 0:\n",
    "    print('zero is true')\n",
    "if 1:\n",
    "    print('one is true')\n",
    "```\n",
    "After reading and running the code above, explain what the rule is for which values are considered `True` and which are considered `False`.  \n",
    "\n",
    "[Solution]()"
   ]
  },
  {
   "cell_type": "markdown",
   "metadata": {},
   "source": [
    "## Solution+: Nothing is true, everything is permitted\n",
    "\n",
    "You can see the results below.\n",
    "You should notice that the statements are arranged into pairs, and they display a familiar pattern:\n",
    "- The empty string, or the string of zero length `''` is considered `False`\n",
    "- Any non-empty string, or string of non-zero length is considered `True`\n",
    "- The empty list, or the list of zero length `[]` is considered `False`\n",
    "- Any non-empty list, or list of non-zero length is considered `True`\n",
    "- `0` is considered `False`\n",
    "- Any non-zero `int` is considered `True`"
   ]
  },
  {
   "cell_type": "code",
   "execution_count": 10,
   "metadata": {},
   "outputs": [
    {
     "name": "stdout",
     "output_type": "stream",
     "text": [
      "word is true\n",
      "non-empty list is true\n",
      "one is true\n"
     ]
    }
   ],
   "source": [
    "if '':\n",
    "    print('empty string is true')\n",
    "if 'word':\n",
    "    print('word is true')\n",
    "if []:\n",
    "    print('empty list is true')\n",
    "if [1, 2, 3]:\n",
    "    print('non-empty list is true')\n",
    "if 0:\n",
    "    print('zero is true')\n",
    "if 1:\n",
    "    print('one is true')"
   ]
  },
  {
   "cell_type": "markdown",
   "metadata": {},
   "source": [
    ":Solution+"
   ]
  },
  {
   "cell_type": "markdown",
   "metadata": {
    "slideshow": {
     "slide_type": "slide"
    }
   },
   "source": [
    "## Key Points:\n",
    "- Use `if` condition to start a conditional statement, `elif` condition to provide additional tests, and `else` to provide a default.\n",
    "- The bodies of the branches of conditional statements must be indented.\n",
    "- Use `==` to test for equality.\n",
    "- `X and Y` is only `True` if both X and Y are `True`.\n",
    "- `X or Y` is `True` if either X or Y, or both, are `True`.\n",
    "- `0`, 'the empty string', and 'the empty list' are considered false; all other numbers, strings, and lists are considered true.\n",
    "- True and False represent truth values."
   ]
  }
 ],
 "metadata": {
  "celltoolbar": "Slideshow",
  "kernelspec": {
   "display_name": "Python 3",
   "language": "python",
   "name": "python3"
  },
  "language_info": {
   "codemirror_mode": {
    "name": "ipython",
    "version": 3
   },
   "file_extension": ".py",
   "mimetype": "text/x-python",
   "name": "python",
   "nbconvert_exporter": "python",
   "pygments_lexer": "ipython3",
   "version": "3.7.3"
  }
 },
 "nbformat": 4,
 "nbformat_minor": 2
}
